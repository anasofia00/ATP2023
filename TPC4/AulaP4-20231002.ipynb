{
 "cells": [
  {
   "cell_type": "markdown",
   "id": "1e545158",
   "metadata": {},
   "source": [
    "# Aula Prática 4 (guião)\n",
    "### Semana de 2 a 6 de Outubro de 2023\n",
    "### José Carlos Ramalho e Luís Cunha\n",
    "### Sinopsis:\n",
    "Algoritmos sobre listas."
   ]
  },
  {
   "cell_type": "markdown",
   "id": "e38d18c4-d7d7-4fea-9bc6-e3f3c903386b",
   "metadata": {},
   "source": [
    "### Exercício 1: Criar uma lista \n",
    "- Defina uma função que recebe um argumento **N** e devolve uma  lista com os números ímpares até **N**;\n",
    "- Crie um programa que chama a função e imprime a lista resultante."
   ]
  },
  {
   "cell_type": "code",
   "execution_count": 42,
   "id": "af973146-3bb4-4fa8-ba6c-b887b79ccff8",
   "metadata": {},
   "outputs": [
    {
     "data": {
      "text/plain": [
       "[1, 3, 5, 7, 9]"
      ]
     },
     "execution_count": 42,
     "metadata": {},
     "output_type": "execute_result"
    }
   ],
   "source": [
    "# Solução do exercício 1\n",
    "def criaLista(N):\n",
    "    lista = []\n",
    "    for n in range (0, N+1):\n",
    "        if n % 2== 1:\n",
    "          lista.append (n)\n",
    "    return lista\n",
    "\n",
    "criaLista(10)\n",
    "\n",
    "def crialista2 (N):\n",
    "    x = 0\n",
    "    lista =[]\n",
    "    while x <= N:\n",
    "        if x % 2 == 1:\n",
    "          lista.append (x)\n",
    "        x=x+1\n",
    "    return lista\n",
    "\n",
    "crialista2 (9) \n",
    "\n",
    "def crialista3 (N):\n",
    "    return [x for x in range (0, N+1) if x % 2== 1]\n",
    "\n",
    "crialista3 (9)"
   ]
  },
  {
   "cell_type": "code",
   "execution_count": null,
   "id": "c7f249fe",
   "metadata": {},
   "outputs": [],
   "source": [
    "[for x in range (0, N+1)]"
   ]
  },
  {
   "cell_type": "markdown",
   "id": "bdcbffb0",
   "metadata": {},
   "source": [
    "### Exercício 2: Ler uma lista de N números\n",
    "- Defina uma função que recebe um argumento **N** e lê **N** números armazenando-os numa lista que é devolvida como resultado;\n",
    "- Crie um programa que chama a função e imprime a lista resultante."
   ]
  },
  {
   "cell_type": "code",
   "execution_count": 100,
   "id": "af973146-3bb4-4fa8-ba6c-b887b79ccff8",
   "metadata": {},
   "outputs": [
    {
     "data": {
      "text/plain": [
       "[16, 10, 2, 3, 17, 13, 12, 18, 1, 20, 1, 20, 2, 5, 12, 19, 11, 1, 11, 4]"
      ]
     },
     "execution_count": 100,
     "metadata": {},
     "output_type": "execute_result"
    }
   ],
   "source": [
    "# Solução do exercício 2\n",
    "def leLista(N):\n",
    "    import random\n",
    "    i = 0\n",
    "    lista= []\n",
    "    while i < N :\n",
    "       n=int(random.randrange (0,N+1))\n",
    "       i=i+1\n",
    "       lista.append (n)\n",
    "    return lista\n",
    "\n",
    "leLista (20)\n"
   ]
  },
  {
   "cell_type": "markdown",
   "id": "bdcbffb0",
   "metadata": {},
   "source": [
    "### Exercício 3: Somar uma lista de números\n",
    "- Defina uma função que recebe uma lista como argumento e devolve a soma dos números nessa lista."
   ]
  },
  {
   "cell_type": "code",
   "execution_count": null,
   "id": "9d755173",
   "metadata": {},
   "outputs": [],
   "source": [
    "def somaLista (lista):\n",
    "    soma=0\n",
    "    for n in lista:\n",
    "        soma = soma + n \n",
    "    return soma\n",
    "somaLista ([1,2,3]) \n"
   ]
  },
  {
   "cell_type": "markdown",
   "id": "65565661",
   "metadata": {},
   "source": [
    "### Exercício 4: Quadrado dos elementos de uma lista\n",
    "\n",
    "- Defina uma função que recebe uma lista como argumento e devolve uma nova lista com os quadrados de cada número da lista inicial. \n",
    "\n",
    "#### Input (exemplo)\n",
    "in: [1, 2, 3, 4]\n",
    "#### Output (exemplo)\n",
    "out: [1, 4, 9, 16]"
   ]
  },
  {
   "cell_type": "code",
   "execution_count": null,
   "id": "7e3e2775",
   "metadata": {},
   "outputs": [],
   "source": [
    "# Solução do exercício 4\n",
    "def quadrados(lista):\n",
    "    lista1=[]\n",
    "    for n in lista:\n",
    "        res = n*n\n",
    "        lista1.append (res)\n",
    "    return (lista1)\n",
    "quadrados ([1,2,3])"
   ]
  },
  {
   "cell_type": "markdown",
   "id": "bdcbffb0",
   "metadata": {},
   "source": [
    "### Exercício 5: Calcular a média duma lista de números\n",
    "- Defina uma função que recebe uma lista como argumento e devolve a média dos números nessa lista."
   ]
  },
  {
   "cell_type": "code",
   "execution_count": null,
   "id": "a6c32b2e",
   "metadata": {},
   "outputs": [],
   "source": [
    "# Solução do exercício 5\n",
    "def mediaLista(lista):\n",
    "    divisor = len(lista)\n",
    "    soma = 0\n",
    "    for n in lista:\n",
    "        soma = soma + n\n",
    "    return (soma/divisor)\n",
    "\n",
    "mediaLista([1,2,3])"
   ]
  },
  {
   "cell_type": "markdown",
   "id": "f41ef69b",
   "metadata": {},
   "source": [
    "### Exercício 6: Maior de uma sequência\n",
    "- Defina uma função que recebe uma lista como argumento e devolve o maior número nessa lista."
   ]
  },
  {
   "cell_type": "code",
   "execution_count": null,
   "id": "86f5b24d",
   "metadata": {},
   "outputs": [],
   "source": [
    "# Solução do exercício 6\n",
    "def maiorLista(lista):\n",
    "    maior=0\n",
    "    for n in lista: \n",
    "        if n > maior:\n",
    "            maior=n\n",
    "    \n",
    "    return maior \n",
    "\n",
    "print (maiorLista([32,74,57]))"
   ]
  },
  {
   "cell_type": "markdown",
   "id": "d11cdd11",
   "metadata": {},
   "source": [
    "### Exercício 6: Menor de uma sequência\n",
    "- Defina uma função que recebe uma lista como argumento e devolve o menor número nessa lista."
   ]
  },
  {
   "cell_type": "code",
   "execution_count": 3,
   "id": "7549c7d7",
   "metadata": {},
   "outputs": [
    {
     "name": "stdout",
     "output_type": "stream",
     "text": [
      "1\n"
     ]
    }
   ],
   "source": [
    "# Solução do exercício 6\n",
    "def menorLista(lista):\n",
    "    menor=lista[0]\n",
    "    for n in lista[1:]:\n",
    "        if n < menor:\n",
    "            menor = n\n",
    "    return (menor)\n",
    "print (menorLista([1,2,3,4]))"
   ]
  },
  {
   "cell_type": "code",
   "execution_count": null,
   "id": "85b868a9",
   "metadata": {},
   "outputs": [],
   "source": []
  },
  {
   "cell_type": "markdown",
   "id": "bb597e57",
   "metadata": {},
   "source": [
    "### Exercício 7: Contar Ocorrências\n",
    "- Defina uma função que recebe uma lista e um elemento como argumento, e que devolve o número de ocurrências desse elemento na lista."
   ]
  },
  {
   "cell_type": "code",
   "execution_count": null,
   "id": "e426e923",
   "metadata": {},
   "outputs": [],
   "source": [
    "# Solução do exercício 7\n",
    "def occor(lista, elem):\n",
    "    \n",
    "    return"
   ]
  },
  {
   "cell_type": "markdown",
   "id": "775a02a5",
   "metadata": {},
   "source": [
    "### Exercício 8: Contar strings\n",
    "- Defina uma função que recebe uma lista de strings como argumento e devolve número de strings nessa lista que:\n",
    "    1. Têm tamanho maior ou igual a 3;\n",
    "    2. Começam e terminam pelo mesmo caracter.\n",
    "#### Input (exemplo)\n",
    "in: ['abc', 'xyz', 'ab', '1221']\n",
    "#### Output (exemplo)\n",
    "out1: 3\n",
    "\n",
    "out2: 1"
   ]
  },
  {
   "cell_type": "code",
   "execution_count": null,
   "id": "7390bc6a",
   "metadata": {},
   "outputs": [],
   "source": [
    "# Solução do exercício 8\n",
    "def contarStringsLista(lista):\n",
    "    \n",
    "    return"
   ]
  },
  {
   "cell_type": "markdown",
   "id": "f9ba457b",
   "metadata": {},
   "source": [
    "### Exercício 9: Remover duplicados\n",
    "- Defina uma função que recebe uma lista como argumento e devolve uma nova lista eliminando elementos repetidos."
   ]
  },
  {
   "cell_type": "code",
   "execution_count": null,
   "id": "0abc61e5",
   "metadata": {},
   "outputs": [],
   "source": [
    "# Solução do exercício 9\n",
    "def remDupLista(lista):\n",
    "    \n",
    "    return"
   ]
  },
  {
   "cell_type": "markdown",
   "id": "9bc471d8",
   "metadata": {},
   "source": [
    "### Exercício 10: eVazia?\n",
    "- Defina uma função que recebe uma lista como argumento e devolve um resultado booleano verdadeiro se a lista estiver vazia."
   ]
  },
  {
   "cell_type": "code",
   "execution_count": null,
   "id": "18cf2aff",
   "metadata": {},
   "outputs": [],
   "source": [
    "# Solução do exercício 10\n",
    "def eVazia(lista):\n",
    "    \n",
    "    return"
   ]
  },
  {
   "cell_type": "markdown",
   "id": "72b8fac0",
   "metadata": {},
   "source": [
    "### Exercício 11: Copiar lista\n",
    "- Defina uma função que recebe uma lista como argumento e devolve uma nova lista correspondente a uma cópia da lista recebida."
   ]
  },
  {
   "cell_type": "code",
   "execution_count": null,
   "id": "a61ca503",
   "metadata": {},
   "outputs": [],
   "source": [
    "# Solução do exercício 11\n",
    "def copiarLista(lista):\n",
    "    \n",
    "    return"
   ]
  },
  {
   "cell_type": "markdown",
   "id": "d170cc50",
   "metadata": {},
   "source": [
    "### Exercício 12: Strings maiores que n carateres\n",
    "- Defina uma função que recebe dois argumentos, uma lista de strings e um número inteiro, e que devolve uma nova lista de strings em que estas têm um comprimento igual ou superior ao valor inteiro passado como argumento."
   ]
  },
  {
   "cell_type": "code",
   "execution_count": null,
   "id": "1944ef1d",
   "metadata": {},
   "outputs": [],
   "source": [
    "# Solução do exercício 12\n",
    "def stringsMaioresLista(lista, n):\n",
    "    \n",
    "    return"
   ]
  },
  {
   "cell_type": "markdown",
   "id": "af46fe06",
   "metadata": {},
   "source": [
    "### Exercício 13: Comum?\n",
    "- Defina uma função que recebe duas listas como argumento, e que devolve o valor booleano verdadeiro se as listas tiverem pelo menos um elemento comum."
   ]
  },
  {
   "cell_type": "code",
   "execution_count": null,
   "id": "7a2f4413",
   "metadata": {},
   "outputs": [],
   "source": [
    "# Solução do exercício 13\n",
    "def haComuns(listaA, listaB):\n",
    "    \n",
    "    return"
   ]
  },
  {
   "cell_type": "markdown",
   "id": "061bae0e",
   "metadata": {},
   "source": [
    "### Exercício 14: Comuns\n",
    "- Defina uma função que recebe duas listas como argumento, e que devolve uma nova lista com os valores comuns às duas listas."
   ]
  },
  {
   "cell_type": "code",
   "execution_count": null,
   "id": "02db9458",
   "metadata": {},
   "outputs": [],
   "source": [
    "# Solução do exercício 14\n",
    "def comuns(listaA, listaB):\n",
    "    \n",
    "    return"
   ]
  },
  {
   "cell_type": "markdown",
   "id": "af4f2b11",
   "metadata": {},
   "source": [
    "### Exercício 15: Únicos\n",
    "- Defina uma função que recebe duas listas como argumento, e que devolve uma nova lista com os valores que apenas existem numa delas."
   ]
  },
  {
   "cell_type": "code",
   "execution_count": null,
   "id": "01a0d35e",
   "metadata": {},
   "outputs": [],
   "source": [
    "# Solução do exercício 15\n",
    "def unicos(listaA, listaB):\n",
    "    \n",
    "    return"
   ]
  },
  {
   "cell_type": "markdown",
   "id": "2acbab46",
   "metadata": {},
   "source": [
    "### Exercício 16: indiceDe\n",
    "- Defina uma função que recebe uma lista e um elemento como argumento, e que devolve o índice desse elemento na lista. No caso do elemento não existir na lista deverá devolver o valor -1."
   ]
  },
  {
   "cell_type": "code",
   "execution_count": 26,
   "id": "3891e6c3",
   "metadata": {},
   "outputs": [
    {
     "data": {
      "text/plain": [
       "'o índice do elemento na lista é -1'"
      ]
     },
     "execution_count": 26,
     "metadata": {},
     "output_type": "execute_result"
    }
   ],
   "source": [
    "# Solução do exercício 16\n",
    "def unicos(lista, elem):\n",
    "      if elem in lista:\n",
    "            x=lista.index(elem)\n",
    "      else:\n",
    "            x=-1\n",
    "      return(\"o índice do elemento na lista é \"+ str(x))\n",
    "    \n",
    "lista1=[1,2,3]\n",
    "unicos(lista1,8)"
   ]
  },
  {
   "cell_type": "markdown",
   "id": "1d9c2fbc",
   "metadata": {},
   "source": [
    "### Exercício 17: estaOrdenada\n",
    "- Defina uma função que recebe uma lista de números e verifica se a mesma está ordenada por ordem crescente."
   ]
  },
  {
   "cell_type": "code",
   "execution_count": 14,
   "id": "fb44546a",
   "metadata": {},
   "outputs": [
    {
     "data": {
      "text/plain": [
       "False"
      ]
     },
     "execution_count": 14,
     "metadata": {},
     "output_type": "execute_result"
    }
   ],
   "source": [
    "# Solução do exercício 17\n",
    "def estaOrdenada(lista):\n",
    "    tamanho =len(lista)\n",
    "    for n in range (0,tamanho-1):\n",
    "        if lista[n]> lista[n+1]:\n",
    "            return False\n",
    "\n",
    "    return True\n",
    "estaOrdenada([1,2,3,4,6,98,8])"
   ]
  },
  {
   "cell_type": "markdown",
   "id": "4c48dc90",
   "metadata": {},
   "source": [
    "### Exercício 18: estaOrdenadaCD\n",
    "- Modifique a função do exercício anterior para receber um parâmetro extra, **ordem**, que poderá ter valores \"C\" ou \"D\" e que vai verificar se a lista está ordenada por ordem crescente se **ordem=\"C\"** ou se está ordenada por ordem decrescente se **ordem=\"D\"**."
   ]
  },
  {
   "cell_type": "code",
   "execution_count": null,
   "id": "f4b83960",
   "metadata": {},
   "outputs": [],
   "source": [
    "# Solução do exercício 18\n",
    "def estaOrdenadaCD(lista, ordem):\n",
    "    \n",
    "    return"
   ]
  },
  {
   "cell_type": "markdown",
   "id": "4193a91b",
   "metadata": {},
   "source": [
    "### TPC4: Aplicação para manipulação de listas de inteiros\n",
    "- Crie uma aplicação em Python que coloca no monitor o seguinte menu:\n",
    "    * (1) Criar Lista \n",
    "    * (2) Ler Lista\n",
    "    * (3) Soma\n",
    "    * (4) Média\n",
    "    * (5) Maior\n",
    "    * (6) Menor\n",
    "    * (7) estaOrdenada por ordem crescente\n",
    "    * (8) estaOrdenada por ordem decrescente\n",
    "    * (9) Procura um elemento\n",
    "    * (0) Sair\n",
    "- O utilizador irá escolher uma das opções introduzindo o número correspondente;\n",
    "- Se a opção não for sair, a aplicação executa a operação pretendida, apresenta o resultado e a seguir apresenta de novo o menu;\n",
    "- Se a opção for sair, a aplicação termina colocando uma mensagem no monitor.\n",
    "\n",
    "* No desenvolvimento da aplicação deverá ter em atenção o seguinte:\n",
    "    - A aplicação terá uma variável interna para guardar uma lista de números;\n",
    "    - Na opção 1, deverá ser criada uma lista de números aleatórios entre 1 e 100 que será guardada na variável interna;\n",
    "    - Na opção 2, deverá ser criada uma lista com números introduzidos pelo utilizador, que será guardada na variável interna;\n",
    "    - Nestas primeiras opções, se a variável interna já tiver uma lista, esta será sobreposta/apagada pela nova lista;\n",
    "    - Na opção 3, será calculada a soma dos elementos na lista no momento;\n",
    "    - Na opção 4, será calculada a média dos elementos na lista no momento;\n",
    "    - Na opção 5, será calculado o maior elemento da lista no momento;\n",
    "    - Na opção 6, será calculado o menor elemento da lista no momento;\n",
    "    - Na opção 7, a aplicação deverá indicar (Sim/Não) se a lista está ordenada por ordem crescente;\n",
    "    - Na opção 8, a aplicação deverá indicar (Sim/Não) se a lista está ordenada por ordem decrescente;\n",
    "    - Na opção 9, a aplicação irá procurar um elemento na lista, se o encontrar deverá devolver a sua posição, devolverá -1 se o elemento não estiver na lista;\n",
    "    - Se o utilizador selecionar a opção 0, a aplicação deverá terminar mostrando a lista que está nesse momento guardada."
   ]
  },
  {
   "cell_type": "code",
   "execution_count": 31,
   "id": "59d00e77",
   "metadata": {},
   "outputs": [
    {
     "name": "stdout",
     "output_type": "stream",
     "text": [
      "Bem vindo à aplicação! Introduza o que pretende executar: \n",
      " (1) Criar lista \n",
      " (2) Ler lista \n",
      " (3) Soma \n",
      " (4) Média \n",
      " (5) Maior \n",
      " (6) Menor \n",
      " (7) estaOrdenada por ordem crescente \n",
      " (8) estaOrdenada por ordem descrescente \n",
      " (9) Procura um elemento \n",
      " (0) Sair \n",
      "A sua lista é [3, 5, 6, 7]\n",
      "Bem vindo à aplicação! Introduza o que pretende executar: \n",
      " (1) Criar lista \n",
      " (2) Ler lista \n",
      " (3) Soma \n",
      " (4) Média \n",
      " (5) Maior \n",
      " (6) Menor \n",
      " (7) estaOrdenada por ordem crescente \n",
      " (8) estaOrdenada por ordem descrescente \n",
      " (9) Procura um elemento \n",
      " (0) Sair \n",
      "A média é 3.75\n",
      "Bem vindo à aplicação! Introduza o que pretende executar: \n",
      " (1) Criar lista \n",
      " (2) Ler lista \n",
      " (3) Soma \n",
      " (4) Média \n",
      " (5) Maior \n",
      " (6) Menor \n",
      " (7) estaOrdenada por ordem crescente \n",
      " (8) estaOrdenada por ordem descrescente \n",
      " (9) Procura um elemento \n",
      " (0) Sair \n",
      "A sua lista é [8, 9, 0, 6, 5, 4]\n",
      "Bem vindo à aplicação! Introduza o que pretende executar: \n",
      " (1) Criar lista \n",
      " (2) Ler lista \n",
      " (3) Soma \n",
      " (4) Média \n",
      " (5) Maior \n",
      " (6) Menor \n",
      " (7) estaOrdenada por ordem crescente \n",
      " (8) estaOrdenada por ordem descrescente \n",
      " (9) Procura um elemento \n",
      " (0) Sair \n",
      "NAO\n",
      "Bem vindo à aplicação! Introduza o que pretende executar: \n",
      " (1) Criar lista \n",
      " (2) Ler lista \n",
      " (3) Soma \n",
      " (4) Média \n",
      " (5) Maior \n",
      " (6) Menor \n",
      " (7) estaOrdenada por ordem crescente \n",
      " (8) estaOrdenada por ordem descrescente \n",
      " (9) Procura um elemento \n",
      " (0) Sair \n",
      "NAO\n",
      "Bem vindo à aplicação! Introduza o que pretende executar: \n",
      " (1) Criar lista \n",
      " (2) Ler lista \n",
      " (3) Soma \n",
      " (4) Média \n",
      " (5) Maior \n",
      " (6) Menor \n",
      " (7) estaOrdenada por ordem crescente \n",
      " (8) estaOrdenada por ordem descrescente \n",
      " (9) Procura um elemento \n",
      " (0) Sair \n",
      "o índice do elemento na lista é -1\n",
      "Bem vindo à aplicação! Introduza o que pretende executar: \n",
      " (1) Criar lista \n",
      " (2) Ler lista \n",
      " (3) Soma \n",
      " (4) Média \n",
      " (5) Maior \n",
      " (6) Menor \n",
      " (7) estaOrdenada por ordem crescente \n",
      " (8) estaOrdenada por ordem descrescente \n",
      " (9) Procura um elemento \n",
      " (0) Sair \n",
      "A sua aplicação terminou! A sua lista que está guardada foi [8, 9, 0, 6, 5, 4]\n"
     ]
    }
   ],
   "source": [
    "\n",
    "menu=(\"Bem vindo à aplicação! Introduza o que pretende executar: \\n (1) Criar lista \\n (2) Ler lista \\n (3) Soma \\n (4) Média \\n (5) Maior \\n (6) Menor \\n (7) estaOrdenada por ordem crescente \\n (8) estaOrdenada por ordem descrescente \\n (9) Procura um elemento \\n (0) Sair \")\n",
    "print(menu)\n",
    "opcao=int(input(\"Bem vindos! que pretende executar?\"))\n",
    "import random\n",
    "\n",
    "lista= []\n",
    "while opcao != 0:\n",
    "    if opcao==1:\n",
    "        lista=[]\n",
    "        N= int(input (\"Introduza o número de elementos que quer que componha a sua lista\"))\n",
    "        for n in range (0, N):\n",
    "            n= int (random.randrange(0,100))\n",
    "            lista.append(n)\n",
    "        print (\"A sua lista é \"+str(lista))\n",
    "        \n",
    "        print(menu)\n",
    "        opcao=int(input(\"De seguida que pretende executar?\"))\n",
    "\n",
    "\n",
    "    elif opcao==2:\n",
    "        lista=[]\n",
    "        S=int(input(\"Introduza o número de elementos que quer que componha a sua lista\"))\n",
    "        for n in range (0, S):\n",
    "            n=int (input (\"Introduza um número para fazer parte da sua lista\"))\n",
    "            lista.append (n)\n",
    "        print (\"A sua lista é \"+str(lista))\n",
    "        print(menu)\n",
    "        opcao=int (input(\"De seguida que pretende executar?\"))\n",
    "    \n",
    "    elif opcao==3:\n",
    "        soma=0\n",
    "        for n in lista: \n",
    "            soma =soma+ n \n",
    "        print(\"A soma é \"+str(soma))\n",
    "        print (menu)\n",
    "        opcao=int(input(\"De seguida que pretende executar?\"))\n",
    "    \n",
    "    elif opcao==4:\n",
    "        divisor=len(lista)\n",
    "        media=soma/divisor\n",
    "        soma=0\n",
    "        i=0\n",
    "        while i< len(lista):\n",
    "            soma=soma+n\n",
    "            i=i+1\n",
    "        print(\"A média é \" +str(media))\n",
    "        print (menu)\n",
    "        opcao = int(input(\"De seguida que pretende executar?\"))\n",
    "\n",
    "    elif opcao==5:\n",
    "         maior=0\n",
    "         for n in lista: \n",
    "             if n > maior:\n",
    "                maior=n\n",
    "         print(\"O maior elemento é \"+str(maior))\n",
    "         print (menu)\n",
    "         opcao=int(input(\"De seguida que pretende executar?\"))\n",
    "\n",
    "    elif opcao==6:\n",
    "        menor=lista[0]\n",
    "        for n in lista[1:]:\n",
    "            if n< menor:\n",
    "                menor=n\n",
    "\n",
    "        print(\"O menor elemento é \"+str(menor))\n",
    "        print(menu)\n",
    "        opcao=int(input(\"De seguida que pretende executar?\"))\n",
    "\n",
    "    elif opcao ==7:\n",
    "         tamanho =len(lista)\n",
    "         ordem=\"SIM\"\n",
    "         for n in range (0,tamanho-1):\n",
    "            if lista[n]> lista[n+1]:\n",
    "                ordem=\"NAO\"\n",
    "         print(ordem)\n",
    "         print(menu)\n",
    "         opcao=int(input(\"De seguida que pretende executar?\"))\n",
    "\n",
    "    elif opcao==8:\n",
    "         tamanho =len(lista)\n",
    "         ordem=\"SIM\"\n",
    "         for n in range (0,tamanho-1):\n",
    "            if lista[n]< lista[n+1]:\n",
    "                ordem=\"NAO\"\n",
    "         print(ordem)\n",
    "         print(menu)\n",
    "         opcao=int(input(\"De seguida que pretende executar?\"))\n",
    "\n",
    "    elif opcao==9:\n",
    "        elemento=int(input(\"Qual o elemento que procura?\"))\n",
    "        if elemento in lista:\n",
    "            x=lista.index(elemento)\n",
    "        else:\n",
    "            x=-1\n",
    "        print(\"o índice do elemento na lista é \"+ str(x))\n",
    "        print(menu)\n",
    "        opcao=int(input(\"De seguida que pretende executar?\"))\n",
    "\n",
    "if opcao==0:\n",
    "        print(\"A sua aplicação terminou! A sua lista que está guardada foi \"+ str(lista))    \n",
    "\n",
    "        \n",
    "\n",
    "        \n",
    "\n",
    "        \n",
    "         \n",
    "\n",
    "        \n",
    "\n",
    "\n",
    "\n",
    "\n",
    "\n",
    "\n"
   ]
  },
  {
   "cell_type": "code",
   "execution_count": null,
   "id": "6c1175d5",
   "metadata": {},
   "outputs": [],
   "source": []
  },
  {
   "cell_type": "code",
   "execution_count": null,
   "id": "573eaa25",
   "metadata": {},
   "outputs": [],
   "source": []
  },
  {
   "cell_type": "code",
   "execution_count": null,
   "id": "23b7ec1e",
   "metadata": {},
   "outputs": [],
   "source": []
  }
 ],
 "metadata": {
  "kernelspec": {
   "display_name": "Python 3.9.1 64-bit",
   "language": "python",
   "name": "python3"
  },
  "language_info": {
   "codemirror_mode": {
    "name": "ipython",
    "version": 3
   },
   "file_extension": ".py",
   "mimetype": "text/x-python",
   "name": "python",
   "nbconvert_exporter": "python",
   "pygments_lexer": "ipython3",
   "version": "3.11.5"
  },
  "vscode": {
   "interpreter": {
    "hash": "aee8b7b246df8f9039afb4144a1f6fd8d2ca17a180786b69acc140d282b71a49"
   }
  }
 },
 "nbformat": 4,
 "nbformat_minor": 5
}
