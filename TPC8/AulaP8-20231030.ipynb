{
 "cells": [
  {
   "cell_type": "markdown",
   "id": "1e545158",
   "metadata": {},
   "source": [
    "# Aula Prática 8 (guião)\n",
    "### Semana de 30 de Outubro a 3 de Novembro de 2023\n",
    "### José Carlos Ramalho e Luís Cunha\n",
    "### Sinopsis:\n",
    "Consolidação e aferição de tudo o que foi feito até ao momento. "
   ]
  },
  {
   "cell_type": "markdown",
   "id": "9b9b5140-2b81-435e-9fc0-324437a7b453",
   "metadata": {},
   "source": [
    "### Assunto: Frações\n",
    "Vamos pensar num modelo: o que é uma fração estruturalmente?"
   ]
  },
  {
   "cell_type": "code",
   "execution_count": 1,
   "id": "5a6da5eb",
   "metadata": {},
   "outputs": [],
   "source": [
    "# Modelo duma fração\n",
    "f1=(1,2)\n",
    "\n",
    "# Modelo duma lista de frações\n",
    "listaf=[(1,2),(1,3)]"
   ]
  },
  {
   "cell_type": "markdown",
   "id": "d477052b-e074-4a5d-ac12-85c2286a1e5f",
   "metadata": {},
   "source": [
    "### Construtor"
   ]
  },
  {
   "cell_type": "code",
   "execution_count": 21,
   "id": "33d1c7e9-22af-4473-9b21-3e7ce0fcf571",
   "metadata": {},
   "outputs": [
    {
     "name": "stdout",
     "output_type": "stream",
     "text": [
      "2 / 3\n"
     ]
    }
   ],
   "source": [
    "def criarFracao(numerador, denominador):\n",
    "    return (numerador,denominador)\n",
    "\n",
    "def verFracao(f):\n",
    "    print (f[0],\"/\", f[1]) # se usares virgula nao e preciso por str(f[0])\n",
    "    return\n",
    "\n",
    "verFracao (f1)"
   ]
  },
  {
   "cell_type": "code",
   "execution_count": 4,
   "id": "d46df3ff",
   "metadata": {},
   "outputs": [
    {
     "name": "stdout",
     "output_type": "stream",
     "text": [
      "2 / 3\n"
     ]
    }
   ],
   "source": [
    "f1 = criarFracao(2,3)\n",
    "verFracao(f1)"
   ]
  },
  {
   "cell_type": "markdown",
   "id": "f7cd0ff1",
   "metadata": {},
   "source": [
    "### Simplificação de frações"
   ]
  },
  {
   "cell_type": "code",
   "execution_count": 23,
   "id": "8b0fa08f",
   "metadata": {},
   "outputs": [],
   "source": [
    "def mdc (a,b):\n",
    "    while a!=b:\n",
    "        if a > b :\n",
    "            #aux=a\n",
    "            #a=b\n",
    "            #b=aux-b\n",
    "            a,b=b,a-b\n",
    "        else:\n",
    "            a,b=b,a\n",
    "    return b\n",
    "\n",
    "def simplificarFracao (f):\n",
    "    divisor=mdc(f[0],f[1])\n",
    "    return (f[0]/ divisor, f[1]/ divisor)"
   ]
  },
  {
   "cell_type": "code",
   "execution_count": 24,
   "id": "8821d031",
   "metadata": {},
   "outputs": [
    {
     "name": "stdout",
     "output_type": "stream",
     "text": [
      "3.0 / 20.0\n"
     ]
    }
   ],
   "source": [
    "verFracao(simplificarFracao(criarFracao(21, 140)))"
   ]
  },
  {
   "cell_type": "markdown",
   "id": "ca2f1736",
   "metadata": {},
   "source": [
    "### Frações equivalentes\n",
    "\n",
    "Defina uma função que recebe duas frações como argumento e devolve `True` se as frações são equivalentes e `False` caso contrário."
   ]
  },
  {
   "cell_type": "code",
   "execution_count": 25,
   "id": "58bdae83",
   "metadata": {},
   "outputs": [],
   "source": [
    "def equivalenteFracao(f1,f2):\n",
    "    return simplificarFracao (f1)==simplificarFracao (f2)"
   ]
  },
  {
   "cell_type": "code",
   "execution_count": 26,
   "id": "95d137b6",
   "metadata": {},
   "outputs": [
    {
     "name": "stdout",
     "output_type": "stream",
     "text": [
      "True\n",
      "False\n"
     ]
    }
   ],
   "source": [
    "f3=(8,4)\n",
    "f4=(4,2)\n",
    "f5=(3,7)\n",
    "print(equivalenteFracao(f3,f4))\n",
    "print(equivalenteFracao(f3,f5))"
   ]
  },
  {
   "cell_type": "markdown",
   "id": "d52f012f",
   "metadata": {},
   "source": [
    "## Operações sobre frações"
   ]
  },
  {
   "cell_type": "code",
   "execution_count": 32,
   "id": "96ba280b",
   "metadata": {},
   "outputs": [
    {
     "name": "stdout",
     "output_type": "stream",
     "text": [
      "29 / 21\n"
     ]
    }
   ],
   "source": [
    "def somarFrac(f1, f2):\n",
    "    num1,denum1 =f1\n",
    "    num2,denum2=f2\n",
    "    if denum1 == denum2:\n",
    "        return int(num1) + int(num2), denum1\n",
    "    else:\n",
    "        return num1 * denum2 + num2 * denum1, denum1* denum2\n",
    "\n",
    "def somarFrac2(f1,f2): \n",
    "    return simplificarFracao ((f1[0]* f2[1] + f2[0] * f1[1], f1[1] * f2[1]))\n",
    "\n",
    "f2 = criarFracao(5,7)\n",
    "verFracao(somarFrac(f1,f2))"
   ]
  },
  {
   "cell_type": "code",
   "execution_count": 37,
   "id": "a0198bce",
   "metadata": {},
   "outputs": [
    {
     "name": "stdout",
     "output_type": "stream",
     "text": [
      "[(7, 10), (5, 3), (5, 16), (4, 15), (4, 2), (8, 5), (3, 9), (2, 19), (3, 7), (6, 13), (7, 13), (3, 5), (3, 15), (1, 16), (6, 17), (7, 16), (4, 2), (9, 4), (3, 18)]\n"
     ]
    }
   ],
   "source": [
    "listaFrac = [f1, f2, criarFracao(125,1000), (8,12)]\n",
    "listaFrac2 = []\n",
    "import random\n",
    "for i in range(1,20):\n",
    "    n = random.randrange(1, 10)\n",
    "    d = random.randrange(2, 20)\n",
    "    listaFrac2.append(criarFracao(n,d))\n",
    "print(listaFrac2)"
   ]
  },
  {
   "cell_type": "markdown",
   "id": "e83e4eae",
   "metadata": {},
   "source": [
    "### Soma uma lista de frações"
   ]
  },
  {
   "cell_type": "code",
   "execution_count": 34,
   "id": "402d83f0",
   "metadata": {},
   "outputs": [
    {
     "data": {
      "text/plain": [
       "(365.0, 168.0)"
      ]
     },
     "execution_count": 34,
     "metadata": {},
     "output_type": "execute_result"
    }
   ],
   "source": [
    "def somarListaFrac(lista):\n",
    "    res=lista[0]\n",
    "    for f in lista[1:]:\n",
    "        res= somarFrac(res,f)\n",
    "    return res\n",
    "\n",
    "simplificarFracao(somarListaFrac(listaFrac))"
   ]
  },
  {
   "cell_type": "markdown",
   "id": "a88929cc",
   "metadata": {},
   "source": [
    "### Multiplica 2 frações"
   ]
  },
  {
   "cell_type": "code",
   "execution_count": null,
   "id": "519c5358",
   "metadata": {},
   "outputs": [],
   "source": [
    "def multFrac(f1, f2):\n",
    " \n",
    "    return # ???"
   ]
  },
  {
   "cell_type": "code",
   "execution_count": null,
   "id": "08ca3421",
   "metadata": {},
   "outputs": [],
   "source": [
    "#NOTAAAA:\n",
    "#o que significa lista[::-1]?\n",
    "#SIGNIFICA REVERSE DE UMA LISTA"
   ]
  },
  {
   "cell_type": "markdown",
   "id": "d1f0c8fa",
   "metadata": {},
   "source": [
    "### Ordenar uma lista de frações por ordem decrescente"
   ]
  },
  {
   "cell_type": "code",
   "execution_count": 55,
   "id": "b783df02",
   "metadata": {},
   "outputs": [
    {
     "data": {
      "text/plain": [
       "[(5, 7), (2, 3), (8, 12), (125, 1000)]"
      ]
     },
     "execution_count": 55,
     "metadata": {},
     "output_type": "execute_result"
    }
   ],
   "source": [
    "#def ordenaListaFracDec(lista):\n",
    "#    return sorted (lista,reverse=True)\n",
    "#ordenaListaFracDec(listaFrac)\n",
    "\n",
    "\n",
    "def ordena (f):\n",
    "    return f[0] / f[1]\n",
    "\n",
    "def ordenaListaFracDec(lista):\n",
    "    return sorted (lista,key= ordena,reverse=True) # serve para dizer como ordenas\n",
    "ordenaListaFracDec(listaFrac)\n"
   ]
  },
  {
   "cell_type": "markdown",
   "id": "fcd5b5d6",
   "metadata": {},
   "source": [
    "### Guardar uma lista de frações num ficheiro"
   ]
  },
  {
   "cell_type": "code",
   "execution_count": 58,
   "id": "2840f9b2",
   "metadata": {},
   "outputs": [],
   "source": [
    "def gravaListaFrac(fnome,lista):\n",
    "    file=open (fnome,\"w\")\n",
    "    for f in lista:\n",
    "        registo =str(f[0] )+ \"/\"+ str(f[1]) + \"\\n\" #NAO PODE SER VIRGULA PQ VIRGULA É SO EM PRINTS\n",
    "        file.write (registo)\n",
    "    \n",
    "    file.close()\n",
    "    return \n",
    "gravaListaFrac(\"fracoes.txt\",listaFrac)"
   ]
  },
  {
   "cell_type": "markdown",
   "id": "0664fcdc",
   "metadata": {},
   "source": [
    "### Recuperar uma lista de frações dum ficheiro"
   ]
  },
  {
   "cell_type": "code",
   "execution_count": 65,
   "id": "82aece6e",
   "metadata": {},
   "outputs": [
    {
     "name": "stdout",
     "output_type": "stream",
     "text": [
      "[(2, 3), (5, 7), (125, 1000), (8, 12)]\n"
     ]
    }
   ],
   "source": [
    "def carregaListaFrac(fnome):\n",
    "    file=open(fnome,\"r\")\n",
    "    res=[]\n",
    "    for line in file:\n",
    "        line =line [:-1]\n",
    "        fracao= line.split (\"/\")\n",
    "        res.append((int(fracao[0]), int(fracao[1])))\n",
    "        \n",
    "\n",
    "    file.close()\n",
    "    return res\n",
    "nova_lista=carregaListaFrac(\"fracoes.txt\")\n",
    "print(nova_lista)"
   ]
  },
  {
   "cell_type": "markdown",
   "id": "4193a91b",
   "metadata": {},
   "source": [
    "## TPC8: Teste de aferição \n",
    "\n",
    "Resolva os problemas apresentados a seguir."
   ]
  },
  {
   "cell_type": "markdown",
   "id": "ecb162bd",
   "metadata": {},
   "source": [
    "### tpc-1. Especifique as seguintes listas em compreensão:"
   ]
  },
  {
   "cell_type": "markdown",
   "id": "4e758271",
   "metadata": {},
   "source": [
    "#### a) Lista formada pelos elementos que não são comuns às duas listas:"
   ]
  },
  {
   "cell_type": "code",
   "execution_count": 15,
   "id": "1fe48423",
   "metadata": {},
   "outputs": [
    {
     "name": "stdout",
     "output_type": "stream",
     "text": [
      "[1, 2, 3, 6, 7, 8]\n"
     ]
    }
   ],
   "source": [
    "lista1 = [1, 2, 3, 4, 5]\n",
    "lista2 = [4, 5, 6, 7, 8]  \n",
    "ncomuns = [...]\n",
    "\n",
    "def ncomuns(lista1,lista2):\n",
    "    ncomuns = []\n",
    "    for n in lista1:\n",
    "        if n not in lista2:\n",
    "            ncomuns.append(n)\n",
    "    for elemento in lista2:\n",
    "        if elemento not in lista1:\n",
    "            ncomuns.append(elemento)  \n",
    "    return ncomuns      \n",
    "\n",
    "print (ncomuns(lista1,lista2))\n",
    "# Resultado esperado: [1,2,3,5,7,8]"
   ]
  },
  {
   "cell_type": "markdown",
   "id": "0ded2f03",
   "metadata": {},
   "source": [
    "#### b) Lista formada pelas palavras do texto compostas por mais de 3 letras:"
   ]
  },
  {
   "cell_type": "code",
   "execution_count": 75,
   "id": "4ae7f5d0",
   "metadata": {},
   "outputs": [
    {
     "name": "stdout",
     "output_type": "stream",
     "text": [
      "['Vivia', 'poucos', 'anos', 'algures', 'concelho', 'Ribatejo', 'pequeno', 'lavrador', 'negociante', 'gado', 'chamado', 'Manuel', 'Peres']\n"
     ]
    }
   ],
   "source": [
    "texto = \"\"\"Vivia há já não poucos anos algures num concelho do Ribatejo \n",
    "    um pequeno lavrador e negociante de gado chamado Manuel Peres Vigário\"\"\"\n",
    "\n",
    "def palavrasCompostas(texto):\n",
    "    contagem = 0\n",
    "    palavra = \"\"\n",
    "    lista = []\n",
    "    for n in texto:\n",
    "        if n != \" \":\n",
    "            contagem = contagem + 1\n",
    "            palavra = palavra + n\n",
    "        else:\n",
    "            if contagem > 3:\n",
    "                lista.append(palavra)\n",
    "                palavra = \"\"\n",
    "                contagem = 0\n",
    "            else:\n",
    "                palavra = \"\"\n",
    "                contagem = 0\n",
    "\n",
    "\n",
    "    return lista\n",
    "\n",
    "print (palavrasCompostas(texto))\n",
    "# Resultado esperado: ['Vivia', 'poucos', 'anos', 'algures', 'concelho', ...]"
   ]
  },
  {
   "cell_type": "code",
   "execution_count": 19,
   "metadata": {},
   "outputs": [
    {
     "name": "stdout",
     "output_type": "stream",
     "text": [
      "['Vivia', 'poucos', 'anos', 'algures', 'concelho', 'Ribatejo', 'pequeno', 'lavrador', 'negociante', 'gado', 'chamado', 'Manuel', 'Peres', 'Vigário']\n"
     ]
    }
   ],
   "source": [
    "texto = \"\"\"Vivia há já não poucos anos algures num concelho do Ribatejo \n",
    "    um pequeno lavrador e negociante de gado chamado Manuel Peres Vigário\"\"\"\n",
    "texto2=texto.split()\n",
    "lista=[]\n",
    "for palavra in texto2:\n",
    "    if len(palavra)>3:\n",
    "        lista.append(palavra)\n",
    "print(lista)"
   ]
  },
  {
   "cell_type": "markdown",
   "id": "ecf72afd",
   "metadata": {},
   "source": [
    "#### c) Lista formada por pares do tipo (índice, valor) com os valores da lista dada:"
   ]
  },
  {
   "cell_type": "code",
   "execution_count": 31,
   "id": "876b2cc3",
   "metadata": {},
   "outputs": [
    {
     "name": "stdout",
     "output_type": "stream",
     "text": [
      "[(1, 'anaconda'), (2, 'burro'), (3, 'cavalo'), (4, 'macaco')]\n"
     ]
    }
   ],
   "source": [
    "lista = ['anaconda', 'burro', 'cavalo', 'macaco']\n",
    "listaRes = []\n",
    "indice=0\n",
    "for palavra in lista:\n",
    "    indice=indice+1\n",
    "    registo= (indice,palavra)\n",
    "    listaRes.append (registo)\n",
    "    \n",
    "print (listaRes)\n",
    "# Resultado esperado: [(1,'anaconda'), (2,'burro'), (3,'cavalo'), (4,'macaco')]"
   ]
  },
  {
   "cell_type": "markdown",
   "id": "28cb3dc4",
   "metadata": {},
   "source": [
    "### tpc-2. À semelhança do que foi feito nas aulas, realize as seguintes tarefas:"
   ]
  },
  {
   "cell_type": "markdown",
   "id": "5d3f1dbe",
   "metadata": {},
   "source": [
    "#### a) Especifique uma função que dada uma string e uma substring não vazia, calcula  o número de vezes em que a substring aparece na string, sem que haja sobreposição de substrings:"
   ]
  },
  {
   "cell_type": "code",
   "execution_count": 47,
   "id": "4458c7bc",
   "metadata": {},
   "outputs": [
    {
     "name": "stdout",
     "output_type": "stream",
     "text": [
      "2\n",
      "1\n",
      "0\n"
     ]
    },
    {
     "data": {
      "text/plain": [
       "0"
      ]
     },
     "execution_count": 47,
     "metadata": {},
     "output_type": "execute_result"
    }
   ],
   "source": [
    "def strCount(s, subs):\n",
    "    tamanhodesubs = len(subs)\n",
    "    palavra = \"\"\n",
    "    res = 0\n",
    "    for n in s:\n",
    "        palavra = s[:tamanhodesubs]\n",
    "        if palavra == subs:\n",
    "            res = res + 1\n",
    "        s = s[tamanhodesubs:]\n",
    "\n",
    "    return res\n",
    "\n",
    "print (strCount(\"catcowcat\", \"cat\")) \n",
    "print (strCount(\"catcowcat\", \"cow\")) \n",
    "print (strCount(\"catcowcat\", \"dog\"))\n",
    "\n",
    "strCount(\"catcowcat\", \"cat\") # --> 2\n",
    "strCount(\"catcowcat\", \"cow\") # --> 1\n",
    "strCount(\"catcowcat\", \"dog\") # --> 0"
   ]
  },
  {
   "cell_type": "markdown",
   "id": "e6db31d7",
   "metadata": {},
   "source": [
    "#### b) Especifique uma função que recebe uma lista de números inteiros positivos e devolve o menor produto que for possível calcular multiplicando os 3 menores inteiros da lista:"
   ]
  },
  {
   "cell_type": "code",
   "execution_count": 42,
   "id": "2b5ad344",
   "metadata": {},
   "outputs": [
    {
     "name": "stdout",
     "output_type": "stream",
     "text": [
      "168\n"
     ]
    }
   ],
   "source": [
    "def produtoM3(lista):\n",
    "    lista.sort()\n",
    "    resultado=[]\n",
    "    for n in lista:\n",
    "        resultado= lista[0]*lista[1]*lista[2]\n",
    "    return resultado \n",
    " \n",
    "\n",
    "\n",
    "print(produtoM3([12,3,7,10,12,8,9]))\n",
    "# Resultado esperado: 168 = 3 * 7 * 8"
   ]
  },
  {
   "cell_type": "markdown",
   "id": "6698b337",
   "metadata": {},
   "source": [
    "#### c) Especifique uma função que dado um número inteiro positivo, repetidamente adiciona os seus dígitos até obter apenas um dígito que é retornado como resultado:"
   ]
  },
  {
   "cell_type": "code",
   "execution_count": 86,
   "id": "54cef309",
   "metadata": {},
   "outputs": [
    {
     "name": "stdout",
     "output_type": "stream",
     "text": [
      "2\n",
      "3\n"
     ]
    }
   ],
   "source": [
    "# Input: 38\n",
    "# Output: 2\n",
    "# Explicação: 3 + 8 = 11, 1 + 1 = 2.\n",
    "\n",
    "# Input: 777\n",
    "# Output: 3\n",
    "# Explicação: 7 + 7 + 7 = 21, 2 + 1 = 3.\n",
    "\n",
    "def reduxInt(n):\n",
    "    res = 0\n",
    "    redux1 = []\n",
    "    redux2 = []\n",
    "    res2 = 0\n",
    "    while n > 10:\n",
    "        resto = int (n%10)\n",
    "        redux1.append(resto)\n",
    "        n = int(n/10)\n",
    "        if n < 10:\n",
    "            redux1.append(n)\n",
    "\n",
    "    for elemento in redux1:\n",
    "        res = res + elemento\n",
    "\n",
    "    if res > 10:\n",
    "        while res > 10:\n",
    "            resto = int (res%10)\n",
    "            redux2.append(resto)\n",
    "            res = int(res/10)\n",
    "            if res < 10:\n",
    "                redux2.append(res)\n",
    "\n",
    "        for elemento in redux2:\n",
    "            res2 = res2 + elemento\n",
    "    \n",
    "    return res2\n",
    "\n",
    "print(reduxInt(38))\n",
    "print (reduxInt(777))\n"
   ]
  },
  {
   "cell_type": "markdown",
   "id": "4a47b6e8",
   "metadata": {},
   "source": [
    "#### d) Especifique uma função que recebe duas strings, `string1` e `string2`, e devolve o índice da primeira ocorrência de `string2` em `string1`, caso não ocorra nenhuma vez a função deverá retornar `-1`:"
   ]
  },
  {
   "cell_type": "code",
   "execution_count": 46,
   "id": "f0f4c2a8",
   "metadata": {},
   "outputs": [
    {
     "name": "stdout",
     "output_type": "stream",
     "text": [
      "13\n",
      "-1\n"
     ]
    }
   ],
   "source": [
    "# Invocação: indexOf(\"Hoje está um belo dia de sol!\", \"belo\")\n",
    "# Resultado: 13\n",
    "\n",
    "# Invocação: indexOf(\"Hoje está um belo dia de sol!\", \"chuva\")\n",
    "# Resultado: -1\n",
    "\n",
    "def myIndexOf(s1, s2):\n",
    "    palavra = \"\"\n",
    "    i = 0\n",
    "    indice = []\n",
    "    encontrado = False\n",
    "    for caracter in s1:\n",
    "        if caracter != \" \":\n",
    "            i = i + 1\n",
    "            palavra = palavra + caracter\n",
    "        \n",
    "        else:\n",
    "            if palavra == s2:\n",
    "                res = i - len(palavra)\n",
    "                encontrado = True\n",
    "                indice.append(res)\n",
    "            else:\n",
    "                i = i + 1\n",
    "                palavra = \"\"\n",
    "\n",
    "        if encontrado == True:\n",
    "            resultado = indice[0]\n",
    "        else:\n",
    "            resultado = -1\n",
    "\n",
    "    return resultado\n",
    "\n",
    "print(myIndexOf(\"Hoje está um belo dia de sol!\", \"belo\"))\n",
    "print (myIndexOf(\"Hoje está um belo dia de sol!\", \"chuva\"))  \n"
   ]
  },
  {
   "cell_type": "markdown",
   "id": "7cd572fc",
   "metadata": {},
   "source": [
    "### tpc-3. A Rede Social\n",
    "\n",
    "Considere que a informação sobre uma rede social está armazenada numa lista de dicionários.\n",
    "\n",
    "Cada dicionário, correspondente a um _post_ e tem chaves `id`, `conteudo`, `autor`, `dataCriacao` e `comentarios`.\n",
    "Por sua vez, `comentarios` é uma lista de dicionários com chaves `comentario` e `autor`.\n",
    "\n",
    "Considere o seguinte exemplo:\n",
    "\n",
    "``` \n",
    "    MyFaceBook = [{\n",
    "        'id': 'p1', \n",
    "        'conteudo': 'A tarefa de avaliação é talvez a mais ingrata das tarefas que um professor\n",
    "    tem de realizar...', \n",
    "        'autor': 'jcr', \n",
    "        'dataCriacao': '2023-07-20', \n",
    "        'comentarios': [\n",
    "            {\n",
    "                'comentario': 'Completamente de acordo...',\n",
    "                'autor': 'prh'\n",
    "            },\n",
    "            {\n",
    "                'comentario': 'Mas há quem goste...',\n",
    "                'autor': 'jj'\n",
    "            }\n",
    "        ]},\n",
    "        {\n",
    "            'id': 'p2',\n",
    "            ...\n",
    "        },\n",
    "        ...\n",
    "        ]\n",
    "```"
   ]
  },
  {
   "cell_type": "markdown",
   "id": "89afc758",
   "metadata": {},
   "source": [
    "Defina as seguintes funções de manipulação e consulta da rede social:"
   ]
  },
  {
   "cell_type": "code",
   "execution_count": 77,
   "metadata": {},
   "outputs": [],
   "source": [
    "MyFaceBook = [{'id': 'p1', \n",
    "        'conteudo': 'A tarefa de avaliação é talvez a mais ingrata das tarefas que um professortem de realizar...', \n",
    "        'autor': 'jcr', \n",
    "        'dataCriacao': '2023-07-20', \n",
    "        'comentarios': [{'comentario': 'Completamente de acordo...', 'autor': 'prh'}, {'comentario': 'Mas há quem goste...','autor': 'jj'}]},\n",
    "        {'id': 'p2', \n",
    "        'conteudo': 'A tarefa de avaliação é talvez a mais ingrata das tarefas que um professortem de realizar...', \n",
    "        'autor': 'jcr', \n",
    "        'dataCriacao': '2023-07-20', \n",
    "        'comentarios': [{'comentario': 'Completamente de acordo...', 'autor': 'prh'}, {'comentario': 'Mas há quem goste...','autor': 'jj'}]},\n",
    "        {'id': 'p3', \n",
    "        'conteudo': 'A tarefa de avaliação é talvez a mais ingrata das tarefas que um professortem de realizar...', \n",
    "        'autor': 'ana', \n",
    "        'dataCriacao': '2023-07-20', \n",
    "        'comentarios': [{'comentario': 'Completamente de acordo...', 'autor': 'ana'}, {'comentario': 'Mas há quem goste...','autor': 'jj'}]}]"
   ]
  },
  {
   "cell_type": "markdown",
   "id": "1aec6cd8",
   "metadata": {},
   "source": [
    "#### a) `quantosPost`, que indica quantos posts estão registados:"
   ]
  },
  {
   "cell_type": "code",
   "execution_count": 78,
   "id": "39a813ee",
   "metadata": {},
   "outputs": [
    {
     "name": "stdout",
     "output_type": "stream",
     "text": [
      "3\n"
     ]
    }
   ],
   "source": [
    "def quantodPosts(redeSocial):\n",
    "    contagem = 0\n",
    "    for id in redeSocial:\n",
    "        contagem = contagem + 1\n",
    "    return contagem\n",
    "\n",
    "print (quantodPosts(MyFaceBook))\n",
    "    "
   ]
  },
  {
   "cell_type": "markdown",
   "id": "2156a0c8",
   "metadata": {},
   "source": [
    "#### b)  `postsAutor`, que devolve a lista de posts de um determinado autor:"
   ]
  },
  {
   "cell_type": "code",
   "execution_count": 79,
   "id": "8a5a2a41",
   "metadata": {},
   "outputs": [
    {
     "data": {
      "text/plain": [
       "[{'id': 'p1',\n",
       "  'conteudo': 'A tarefa de avaliação é talvez a mais ingrata das tarefas que um professortem de realizar...',\n",
       "  'autor': 'jcr',\n",
       "  'dataCriacao': '2023-07-20',\n",
       "  'comentarios': [{'comentario': 'Completamente de acordo...', 'autor': 'prh'},\n",
       "   {'comentario': 'Mas há quem goste...', 'autor': 'jj'}]},\n",
       " {'id': 'p2',\n",
       "  'conteudo': 'A tarefa de avaliação é talvez a mais ingrata das tarefas que um professortem de realizar...',\n",
       "  'autor': 'jcr',\n",
       "  'dataCriacao': '2023-07-20',\n",
       "  'comentarios': [{'comentario': 'Completamente de acordo...', 'autor': 'prh'},\n",
       "   {'comentario': 'Mas há quem goste...', 'autor': 'jj'}]}]"
      ]
     },
     "execution_count": 79,
     "metadata": {},
     "output_type": "execute_result"
    }
   ],
   "source": [
    "def postsAutor(redeSocial, autor):\n",
    "    listaposts=[]\n",
    "    for post in redeSocial:\n",
    "        if post['autor']==autor:\n",
    "            listaposts.append(post)\n",
    "    return listaposts\n",
    "postsAutor(MyFaceBook, \"jcr\")"
   ]
  },
  {
   "cell_type": "markdown",
   "id": "12f9126b",
   "metadata": {},
   "source": [
    "#### c) `autores`, que devolve a lista de autores de posts ordenada alfabeticamente:"
   ]
  },
  {
   "cell_type": "code",
   "execution_count": 83,
   "id": "d9dfe30a",
   "metadata": {},
   "outputs": [
    {
     "name": "stdout",
     "output_type": "stream",
     "text": [
      "['ana', 'jcr']\n"
     ]
    }
   ],
   "source": [
    "def autores(redeSocial):\n",
    "    listaposts = []\n",
    "    for post in redeSocial:\n",
    "        if post['autor'] not in listaposts:\n",
    "            listaposts.append(post['autor'])\n",
    "    listaposts.sort()\n",
    "    return listaposts\n",
    "    \n",
    "        \n",
    "print (autores(MyFaceBook))\n",
    "    "
   ]
  },
  {
   "cell_type": "markdown",
   "id": "1a0f760b",
   "metadata": {},
   "source": [
    "#### d) `insPost`, que acrescenta um novo post à rede social a partir dos parâmetros recebidos e devolve a nova rede social. \n",
    "    \n",
    "O campo `id` devrá ser calculado a partir dos já existentes, por exemplo, se a rede tiver posts com id `p1`, `p2` e `p3`, o novo `id` deverá ser `p4`."
   ]
  },
  {
   "cell_type": "code",
   "execution_count": 66,
   "id": "a00c85e3",
   "metadata": {},
   "outputs": [
    {
     "name": "stdout",
     "output_type": "stream",
     "text": [
      "[{'id': 'p1', 'conteudo': 'A tarefa de avaliação é talvez a mais ingrata das tarefas que um professortem de realizar...', 'autor': 'jcr', 'dataCriacao': '2023-07-20', 'comentarios': [{'comentario': 'Completamente de acordo...', 'autor': 'prh'}, {'comentario': 'Mas há quem goste...', 'autor': 'jj'}]}, {'id': 'p2', 'conteudo': 'A tarefa de avaliação é talvez a mais ingrata das tarefas que um professortem de realizar...', 'autor': 'jcr', 'dataCriacao': '2023-07-20', 'comentarios': [{'comentario': 'Completamente de acordo...', 'autor': 'prh'}, {'comentario': 'Mas há quem goste...', 'autor': 'jj'}]}, {'id': 'p3', 'conteudo': 'A tarefa de avaliação é talvez a mais ingrata das tarefas que um professortem de realizar...', 'autor': 'ana', 'dataCriacao': '2023-07-20', 'comentarios': [{'comentario': 'Completamente de acordo...', 'autor': 'ana'}, {'comentario': 'Mas há quem goste...', 'autor': 'jj'}]}, {'id': 'p4', 'conteudo': 'conteudo', 'autor': 'autor', 'dataCriacao': 'dataCriacao', 'comentarios': 'comentarios'}]\n"
     ]
    }
   ],
   "source": [
    "def insPost(redeSocial, conteudo, autor, dataCriacao, comentarios):\n",
    "    nome = \"p\"+ str(quantodPosts(redeSocial) + 1)\n",
    "    postnovo = {'id': nome, 'conteudo': conteudo, 'autor': autor, 'dataCriacao': dataCriacao, 'comentarios': comentarios}\n",
    "    redeSocial.append(postnovo)\n",
    "    return redeSocial\n",
    "\n",
    "\n",
    "print (insPost(MyFaceBook, 'conteudo', 'autor', 'dataCriacao', 'comentarios'))"
   ]
  },
  {
   "cell_type": "markdown",
   "id": "65061d0a",
   "metadata": {},
   "source": [
    "#### e)  `remPost`, que remove um post da rede, correspondente ao `id` recebido."
   ]
  },
  {
   "cell_type": "code",
   "execution_count": 68,
   "id": "dc1adabc",
   "metadata": {},
   "outputs": [
    {
     "name": "stdout",
     "output_type": "stream",
     "text": [
      "[{'id': 'p1', 'conteudo': 'A tarefa de avaliação é talvez a mais ingrata das tarefas que um professortem de realizar...', 'autor': 'jcr', 'dataCriacao': '2023-07-20', 'comentarios': [{'comentario': 'Completamente de acordo...', 'autor': 'prh'}, {'comentario': 'Mas há quem goste...', 'autor': 'jj'}]}, {'id': 'p2', 'conteudo': 'A tarefa de avaliação é talvez a mais ingrata das tarefas que um professortem de realizar...', 'autor': 'jcr', 'dataCriacao': '2023-07-20', 'comentarios': [{'comentario': 'Completamente de acordo...', 'autor': 'prh'}, {'comentario': 'Mas há quem goste...', 'autor': 'jj'}]}, {'id': 'p3', 'conteudo': 'A tarefa de avaliação é talvez a mais ingrata das tarefas que um professortem de realizar...', 'autor': 'ana', 'dataCriacao': '2023-07-20', 'comentarios': [{'comentario': 'Completamente de acordo...', 'autor': 'ana'}, {'comentario': 'Mas há quem goste...', 'autor': 'jj'}]}]\n"
     ]
    }
   ],
   "source": [
    "def remPost(redeSocial, id):\n",
    "    novalista = []\n",
    "    for post in redeSocial:\n",
    "        if post[\"id\"] != id:\n",
    "            novalista.append(post)\n",
    "    return novalista                      #adicionar a uma nova lista tudo menos o que corresponde ao id que selecionei\n",
    "\n",
    "print (remPost(MyFaceBook, 'p4'))"
   ]
  },
  {
   "cell_type": "markdown",
   "id": "de46a635",
   "metadata": {},
   "source": [
    "#### f) `postsPorAutor`, que devolve uma distribuição de posts por autor (à semelhança do que foi feito nas aulas)."
   ]
  },
  {
   "cell_type": "code",
   "execution_count": 71,
   "id": "4118730d",
   "metadata": {},
   "outputs": [
    {
     "name": "stdout",
     "output_type": "stream",
     "text": [
      "[('jcr', {'id': 'p1', 'conteudo': 'A tarefa de avaliação é talvez a mais ingrata das tarefas que um professortem de realizar...', 'autor': 'jcr', 'dataCriacao': '2023-07-20', 'comentarios': [{'comentario': 'Completamente de acordo...', 'autor': 'prh'}, {'comentario': 'Mas há quem goste...', 'autor': 'jj'}]}), ('jcr', {'id': 'p2', 'conteudo': 'A tarefa de avaliação é talvez a mais ingrata das tarefas que um professortem de realizar...', 'autor': 'jcr', 'dataCriacao': '2023-07-20', 'comentarios': [{'comentario': 'Completamente de acordo...', 'autor': 'prh'}, {'comentario': 'Mas há quem goste...', 'autor': 'jj'}]}), ('ana', {'id': 'p3', 'conteudo': 'A tarefa de avaliação é talvez a mais ingrata das tarefas que um professortem de realizar...', 'autor': 'ana', 'dataCriacao': '2023-07-20', 'comentarios': [{'comentario': 'Completamente de acordo...', 'autor': 'ana'}, {'comentario': 'Mas há quem goste...', 'autor': 'jj'}]}), ('autor', {'id': 'p4', 'conteudo': 'conteudo', 'autor': 'autor', 'dataCriacao': 'dataCriacao', 'comentarios': 'comentarios'})]\n"
     ]
    }
   ],
   "source": [
    "def distribuição(redeSocial):\n",
    "    listaposts = []\n",
    "    for post in redeSocial:\n",
    "        res = (post['autor'], post)\n",
    "        listaposts.append(res)\n",
    "    return listaposts\n",
    "\n",
    "print (distribuição(MyFaceBook))   "
   ]
  },
  {
   "cell_type": "markdown",
   "id": "5b1d7d7a",
   "metadata": {},
   "source": [
    "#### g) `comentadoPor`, que recebe um autor e devolve a lista de posts comentados por esse autor."
   ]
  },
  {
   "cell_type": "code",
   "execution_count": 87,
   "id": "a91f2619",
   "metadata": {},
   "outputs": [
    {
     "name": "stdout",
     "output_type": "stream",
     "text": [
      "[{'id': 'p3', 'conteudo': 'A tarefa de avaliação é talvez a mais ingrata das tarefas que um professortem de realizar...', 'autor': 'ana', 'dataCriacao': '2023-07-20', 'comentarios': [{'comentario': 'Completamente de acordo...', 'autor': 'ana'}, {'comentario': 'Mas há quem goste...', 'autor': 'jj'}]}]\n"
     ]
    }
   ],
   "source": [
    "def comentadoPor(redeSocial, autor):\n",
    "    listaposts = []\n",
    "    for post in redeSocial:\n",
    "        if post['autor'] == autor:\n",
    "            for comentario in post['comentarios']:\n",
    "                if comentario['autor'] == autor:\n",
    "                    listaposts.append(post)\n",
    "    return listaposts\n",
    "\n",
    "print (comentadoPor(MyFaceBook,'ana'))"
   ]
  }
 ],
 "metadata": {
  "kernelspec": {
   "display_name": "Python 3.9.1 64-bit",
   "language": "python",
   "name": "python3"
  },
  "language_info": {
   "codemirror_mode": {
    "name": "ipython",
    "version": 3
   },
   "file_extension": ".py",
   "mimetype": "text/x-python",
   "name": "python",
   "nbconvert_exporter": "python",
   "pygments_lexer": "ipython3",
   "version": "3.11.5"
  },
  "vscode": {
   "interpreter": {
    "hash": "aee8b7b246df8f9039afb4144a1f6fd8d2ca17a180786b69acc140d282b71a49"
   }
  }
 },
 "nbformat": 4,
 "nbformat_minor": 5
}
