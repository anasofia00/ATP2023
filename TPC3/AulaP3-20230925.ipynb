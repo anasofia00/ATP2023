{
 "cells": [
  {
   "cell_type": "markdown",
   "id": "1e545158",
   "metadata": {},
   "source": [
    "# Aula Prática 2 (guião)\n",
    "### Semana de 26 a 30 de Setembro de 2022\n",
    "### José Carlos Ramalho e Luís Cunha\n",
    "### Sinopsis:\n",
    "Algoritmos de cálculo numérico envolvendo estruturas condicionais (if-elif-else) e cíclicas (while)."
   ]
  },
  {
   "cell_type": "markdown",
   "id": "e38d18c4-d7d7-4fea-9bc6-e3f3c903386b",
   "metadata": {},
   "source": [
    "### Exercício 1: Soma de N números\n",
    "- Leia um número N;\n",
    "- Leia N números;\n",
    "- Imprima a soma dos N números."
   ]
  },
  {
   "cell_type": "code",
   "execution_count": 67,
   "id": "af973146-3bb4-4fa8-ba6c-b887b79ccff8",
   "metadata": {},
   "outputs": [
    {
     "name": "stdout",
     "output_type": "stream",
     "text": [
      "4\n",
      "3\n",
      "2\n",
      "1\n",
      "0\n",
      "8\n"
     ]
    }
   ],
   "source": [
    "# Solução do exercio 1\n",
    "n= int(input(\"Introduza um número\"))\n",
    "print(n)\n",
    "soma = 0\n",
    "while n > 0 : \n",
    "    x= int(input(\"Introduza um número\"))\n",
    "    soma = soma +x\n",
    "    n = n - 1\n",
    "    print(n)    \n",
    "\n",
    "print (soma)"
   ]
  },
  {
   "cell_type": "markdown",
   "id": "13b62657",
   "metadata": {},
   "source": [
    "### Exercício 1.5: Números pares\n",
    "- Leia um número N;\n",
    "- Leia N números;\n",
    "- Imprima os números pares na saída."
   ]
  },
  {
   "cell_type": "code",
   "execution_count": 49,
   "id": "357fa989",
   "metadata": {},
   "outputs": [
    {
     "name": "stdout",
     "output_type": "stream",
     "text": [
      "66\n",
      "98\n"
     ]
    }
   ],
   "source": [
    "n= int(input(\"Introduza um número\"))\n",
    "\n",
    "while n > 0 : \n",
    "    x=int(input(\"Introduza um número\"))\n",
    "    n = n - 1\n",
    "    if x % 2 == 0 :\n",
    "        print (x)\n"
   ]
  },
  {
   "cell_type": "markdown",
   "id": "bdcbffb0",
   "metadata": {},
   "source": [
    "### Exercício 2: O Maior de N números\n",
    "- Leia um número N;\n",
    "- Leia N números;\n",
    "- Imprima o maior dos N números."
   ]
  },
  {
   "cell_type": "code",
   "execution_count": 58,
   "id": "af973146-3bb4-4fa8-ba6c-b887b79ccff8",
   "metadata": {},
   "outputs": [
    {
     "name": "stdout",
     "output_type": "stream",
     "text": [
      "7\n"
     ]
    }
   ],
   "source": [
    "# Solução do exercício 2\n",
    "n = int(input(\"Introduza um número\"))\n",
    "maior = 0\n",
    "while n > 0 :\n",
    "    x=int(input (\"Introduza um número\"))\n",
    "    n = n - 1\n",
    "    if x > maior :\n",
    "        maior = x \n",
    " \n",
    "print (maior)"
   ]
  },
  {
   "cell_type": "markdown",
   "id": "bdcbffb0",
   "metadata": {},
   "source": [
    "### Exercício 3: O Menor de N números\n",
    "- Leia um número N;\n",
    "- Leia N números;\n",
    "- Imprima o menor dos N números."
   ]
  },
  {
   "cell_type": "code",
   "execution_count": 60,
   "id": "64ad6f7b",
   "metadata": {},
   "outputs": [
    {
     "name": "stdout",
     "output_type": "stream",
     "text": [
      "1\n"
     ]
    }
   ],
   "source": [
    "# Solução do exercício 3\n",
    "n = int(input(\"Introduza um número\"))\n",
    "menor = int( input( \"Introduza um numero\"))\n",
    "while n > 1 :\n",
    "    x=int(input (\"Introduza um número\"))\n",
    "    n = n - 1\n",
    "    if x < menor : \n",
    "      menor = x\n",
    "    \n",
    "print(menor)"
   ]
  },
  {
   "cell_type": "markdown",
   "id": "bdcbffb0",
   "metadata": {},
   "source": [
    "### Exercício 4: A Média de N números\n",
    "- Leia um número N;\n",
    "- Leia N números;\n",
    "- Imprima a média dos N números."
   ]
  },
  {
   "cell_type": "code",
   "execution_count": 66,
   "id": "a6c32b2e",
   "metadata": {},
   "outputs": [
    {
     "name": "stdout",
     "output_type": "stream",
     "text": [
      "2.75\n"
     ]
    }
   ],
   "source": [
    "# Solução do exercício 4\n",
    "n = int(input(\"Introduza um número\"))\n",
    "divisor = n\n",
    "soma = 0\n",
    "while n > 0 :\n",
    "    x=int(input (\"Introduza um número\"))\n",
    "    n = n - 1\n",
    "    soma = soma +x\n",
    "media = soma / divisor\n",
    "print( media)\n",
    "\n",
    "\n"
   ]
  },
  {
   "cell_type": "markdown",
   "id": "46a52784",
   "metadata": {},
   "source": [
    "### Exercício 5: Potência\n",
    "- Defina uma função **pot** que recebe dois parâmetros, **a** e **b**, e retorna o resultado de **a elevado à potência de b**.\n",
    "- Use esta função para escrever no monitor as potências de 2 com expoentes de 1 a 20."
   ]
  },
  {
   "cell_type": "code",
   "execution_count": null,
   "id": "73ebf338",
   "metadata": {},
   "outputs": [],
   "source": [
    "# Solução do exercício 5\n"
   ]
  },
  {
   "cell_type": "markdown",
   "id": "a09b4add",
   "metadata": {},
   "source": [
    "### Exercício 6: Divisão inteira\n",
    "- Defina uma função **divisao** que recebe dois parâmetros **a** e **b** e retorna o resultado da **divisão inteira de a por b** (neste exercício não poderá usar as operações de divisão '/' e do resto '%')."
   ]
  },
  {
   "cell_type": "code",
   "execution_count": null,
   "id": "36dbd5aa",
   "metadata": {},
   "outputs": [],
   "source": [
    "# Solução do exercício 6"
   ]
  },
  {
   "cell_type": "markdown",
   "id": "0490effe",
   "metadata": {},
   "source": [
    "### Exercício 7: Resto\n",
    "- Defina uma função **resto** que recebe dois parâmetros **a** e **b** e retorna o **resto da divisão inteira de a por b** (neste exercício não poderá usar as operações de divisão '/' e do resto '%')."
   ]
  },
  {
   "cell_type": "code",
   "execution_count": null,
   "id": "3fea0e05",
   "metadata": {},
   "outputs": [],
   "source": [
    "# Solução do exercício 7"
   ]
  },
  {
   "cell_type": "markdown",
   "id": "d11cdd11",
   "metadata": {},
   "source": [
    "### Exercício 8: Série numérica\n",
    "- Defina uma função **serie** que recebe três parâmetros, **base**, **salto** e **nelems**, e escreve no monitor a série;\n",
    "- Invocada com: **serie(7, 4, 5)** escreveria: 7, 11, 15, 19, 23"
   ]
  },
  {
   "cell_type": "code",
   "execution_count": 6,
   "id": "7549c7d7",
   "metadata": {},
   "outputs": [],
   "source": [
    "# Solução do exercício 8\n"
   ]
  },
  {
   "cell_type": "markdown",
   "id": "73187e87",
   "metadata": {},
   "source": [
    "### Exercício 9: Desenhar um quadrado\n",
    "- Defina uma função **quad** que recebe um parâmetro, **n**, e desenha no monitor um quadrado usando o caráter '#'."
   ]
  },
  {
   "cell_type": "code",
   "execution_count": 7,
   "id": "a31f8eaf",
   "metadata": {},
   "outputs": [],
   "source": [
    "# Solução do exercício 9"
   ]
  },
  {
   "cell_type": "markdown",
   "id": "f4e2bc84",
   "metadata": {},
   "source": [
    "### Exercício 10: Índice de Massa Corporal\n",
    "- Defina uma função **imc** que recebe dois parâmetros, **peso**,**altura**, calcula o IMC corresponente e interpreta esse resultado.\n",
    "- imc(53,1.56) - Output: \"O seu índice de massa corporal é **21.78** e encontra-se na categoria **Normal**\"\n",
    "- imc(83,1.56) - Output: \"O seu índice de massa corporal é **34.11** e encontra-se na categoria **Obesidade grau I**\"\n",
    "\n",
    "Valores:\n",
    "- Menor que 18,5 - Baixo peso\n",
    "- 18,5 a 24,9 - Normal\n",
    "- 25 a 29,9\t- Excesso de peso\n",
    "- 30 a 34,9\t- Obesidade grau I\n",
    "- 35 a 39,9\t- Obesidade grau II\n",
    "- Maior que 40\t- Obesidade grau III"
   ]
  },
  {
   "cell_type": "code",
   "execution_count": 18,
   "id": "2a62004a",
   "metadata": {},
   "outputs": [],
   "source": [
    "# Solução do exercício 10"
   ]
  },
  {
   "cell_type": "markdown",
   "id": "1cf1b437",
   "metadata": {},
   "source": [
    "## TPC3: Adivinha o número!?\n",
    "\n",
    "Desenvolve em Python o código necessário para o jogo do Adivinha o número: \n",
    "* O jogo deverá ter dois modos: o computador tenta acertar no número que o jogador pensou ou, o jogador tenta acertar no número que o computador pensou; \n",
    "* No fim, o programa deverá indicar quantas tentativas foram realizadas para chegar ao resultado;\n",
    "* O Jogo: \n",
    "    - o utilizador pensa num número entre 0 e 100;\n",
    "    - o computador tenta adivinhar indicando um número do intervalo;\n",
    "    - o utilizador indica se o número em que pensou é **maior**, **menor**, ou se o computador **acertou**;\n",
    "    - ao terminar, o programa imprime o número de tentativas que o computador teve de fazer até chegar ao número.\n",
    "\n",
    "Que conclusão podes tirar sobre o número de tentativas necessárias para um número entre 0 e 100? E se fosse entre 0 e 1000?"
   ]
  },
  {
   "cell_type": "code",
   "execution_count": 3,
   "id": "a8e416f4",
   "metadata": {},
   "outputs": [
    {
     "name": "stdout",
     "output_type": "stream",
     "text": [
      "Boas vindas! Escolha o modo de jogo que pretende!\n",
      "Escolha um numero para que o computador adivinhe\n",
      "O numero que escolheu é 64?\n",
      "O numero que escolheu é 71?\n",
      "O numero que escolheu é 77?\n",
      "O numero que escolheu é 96?\n",
      "O numero que escolheu é 90?\n",
      "O numero que escolheu é 79?\n",
      "O numero que escolheu é 87?\n",
      "O numero que escolheu é 84?\n",
      "O numero que escolheu é 86?\n",
      "O numero que escolheu é 85?\n",
      "O computador acertou em 10 tentativas!\n"
     ]
    }
   ],
   "source": [
    "print (\"Boas vindas! Escolha o modo de jogo que pretende!\")\n",
    "modo = int (input(\"Qual o modo que quer escolher? 0 - advinha o numero do computador  1- o computador adivinha o teu numero \"))\n",
    "menor= 0\n",
    "maior=100 \n",
    "tentativas= 0 \n",
    "import random\n",
    "if modo == 0:\n",
    "  numero_pc =int(random.randrange(0,100))\n",
    "  x= int( input(\"escolhe um número!\"))\n",
    "  while x != numero_pc:\n",
    "    if numero_pc < int(x):\n",
    "      print (\"o numero é menor que \"+ str(x))\n",
    "    elif numero_pc > int(x):\n",
    "      print ( \"o número é maior que \" + str(x))\n",
    "    tentativas = tentativas + 1\n",
    "    x = int (input (\"Tente outra vez!Escolha um novo numero! \"))\n",
    "  print(\" Parabéns! Acertaste em \"+ str(tentativas)+ \" tentativas.\")\n",
    "elif modo == 1: \n",
    "  tentativas= 0 \n",
    "  min = 0\n",
    "  max = 100\n",
    "  print(\"Escolha um numero para que o computador adivinhe\")\n",
    "  numero_pc =int(random.randrange(min,max))\n",
    "  resposta = \"\"\n",
    "  while resposta != (\"acertou\"):\n",
    "    print (\"O numero que escolheu é \" + str(numero_pc) + \"?\")\n",
    "    resposta= input(\" O número que escolheu é maior, menor ou acertou?\")\n",
    "    if resposta == (\"menor\"):\n",
    "      max = numero_pc + 1\n",
    "    elif resposta == (\"maior\"):\n",
    "      min = numero_pc + 1\n",
    "    numero_pc=int(random.randrange(min,max))\n",
    "    tentativas= tentativas + 1\n",
    "  print (\"O computador acertou em \"+ str(tentativas)+ (\" tentativas!\"))\n",
    "\n",
    "     \n",
    "\n",
    "\n",
    "\n",
    "\n",
    "\n",
    "\n"
   ]
  }
 ],
 "metadata": {
  "kernelspec": {
   "display_name": "Python 3.9.7 64-bit",
   "language": "python",
   "name": "python3"
  },
  "language_info": {
   "codemirror_mode": {
    "name": "ipython",
    "version": 3
   },
   "file_extension": ".py",
   "mimetype": "text/x-python",
   "name": "python",
   "nbconvert_exporter": "python",
   "pygments_lexer": "ipython3",
   "version": "3.11.5"
  },
  "vscode": {
   "interpreter": {
    "hash": "916dbcbb3f70747c44a77c7bcd40155683ae19c65e1c03b4aa3499c5328201f1"
   }
  }
 },
 "nbformat": 4,
 "nbformat_minor": 5
}
