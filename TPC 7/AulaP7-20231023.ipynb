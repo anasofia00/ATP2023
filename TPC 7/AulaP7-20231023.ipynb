{
 "cells": [
  {
   "cell_type": "markdown",
   "id": "1e545158",
   "metadata": {},
   "source": [
    "# Aula Prática 7 (guião)\n",
    "### Semana de 23 a 27 de Outubro de 2022\n",
    "### José Carlos Ramalho e Luís Cunha\n",
    "### Sinopsis:\n",
    "Algoritmos e modelação de problemas com armazenamento em memória secundária."
   ]
  },
  {
   "cell_type": "markdown",
   "id": "dcbc2dd4",
   "metadata": {},
   "source": [
    "### Aquecimento: Calcula quantos números inteiros entre 1 e 10000 são múltiplos de 23 e devolve esse número (um múltiplo de 23 é um número que tem 23 como divisor).\n",
    "\n",
    "```\n",
    "def multiplos23():\n",
    "    ... \n",
    "    return ... \n",
    "```"
   ]
  },
  {
   "cell_type": "code",
   "execution_count": 2,
   "id": "20aa947a",
   "metadata": {},
   "outputs": [
    {
     "ename": "NameError",
     "evalue": "name 'lista' is not defined",
     "output_type": "error",
     "traceback": [
      "\u001b[1;31m---------------------------------------------------------------------------\u001b[0m",
      "\u001b[1;31mNameError\u001b[0m                                 Traceback (most recent call last)",
      "\u001b[1;32mc:\\Users\\user\\Desktop\\Ana Uni\\2 ano\\aulas\\AulaP7-20231023.ipynb Cell 3\u001b[0m line \u001b[0;36m1\n\u001b[0;32m      <a href='vscode-notebook-cell:/c%3A/Users/user/Desktop/Ana%20Uni/2%20ano/aulas/AulaP7-20231023.ipynb#W2sZmlsZQ%3D%3D?line=7'>8</a>\u001b[0m     lista\u001b[39m=\u001b[39mres\n\u001b[0;32m      <a href='vscode-notebook-cell:/c%3A/Users/user/Desktop/Ana%20Uni/2%20ano/aulas/AulaP7-20231023.ipynb#W2sZmlsZQ%3D%3D?line=8'>9</a>\u001b[0m     \u001b[39mreturn\u001b[39;00m lista\n\u001b[1;32m---> <a href='vscode-notebook-cell:/c%3A/Users/user/Desktop/Ana%20Uni/2%20ano/aulas/AulaP7-20231023.ipynb#W2sZmlsZQ%3D%3D?line=11'>12</a>\u001b[0m \u001b[39mprint\u001b[39m (\u001b[39mlen\u001b[39m(lista))\n\u001b[0;32m     <a href='vscode-notebook-cell:/c%3A/Users/user/Desktop/Ana%20Uni/2%20ano/aulas/AulaP7-20231023.ipynb#W2sZmlsZQ%3D%3D?line=13'>14</a>\u001b[0m \u001b[39mprint\u001b[39m(multiplos23())\n",
      "\u001b[1;31mNameError\u001b[0m: name 'lista' is not defined"
     ]
    }
   ],
   "source": [
    "def multiplos23():\n",
    "    res = []\n",
    "    numero=0\n",
    "    for x in range (1,1000):\n",
    "        if x % 23==0 :\n",
    "            res.append(x)\n",
    "    numero= numero + 1\n",
    "    lista=res\n",
    "    return lista\n",
    "    \n",
    "    \n",
    "print (len(lista))\n",
    "\n",
    "print(multiplos23())"
   ]
  },
  {
   "cell_type": "code",
   "execution_count": 6,
   "id": "56f19654",
   "metadata": {},
   "outputs": [
    {
     "name": "stdout",
     "output_type": "stream",
     "text": [
      "43\n"
     ]
    }
   ],
   "source": [
    "def multiplos23():\n",
    "    i=23\n",
    "    res=0\n",
    "    while i <=1000:\n",
    "        i=i+23\n",
    "        res=res+1\n",
    "    return res\n",
    "print(multiplos23())"
   ]
  },
  {
   "cell_type": "markdown",
   "id": "c59516f3",
   "metadata": {},
   "source": [
    "### Exercício 1: Considere os seguintes comentários que definem um modelo para guardar os registos de temperatura e precipitação ao longo de vários dias, materializado na variável tabMeteo1:"
   ]
  },
  {
   "cell_type": "code",
   "execution_count": 2,
   "id": "25a06fac",
   "metadata": {},
   "outputs": [],
   "source": [
    "# TabMeteo = [(Data,TempMin,TempMax,Precipitacao)]\n",
    "    # Data = (Int,Int,Int)\n",
    "    # TempMin = Float\n",
    "    # TempMax = Float\n",
    "    # Precipitacao = Float\n",
    "\n",
    "tabMeteo1 = [((2022,1,20), 2, 16, 0),((2022,1,21), 1, 13, 0.2)]"
   ]
  },
  {
   "cell_type": "markdown",
   "id": "7cdf50d5",
   "metadata": {},
   "source": [
    "### 1.a) Calcula a temperatura média de cada dia, dando como resultado uma lista de pares: [(data, temperaturaMédia)]:\n",
    "\n",
    "``` \n",
    "def medias(tabMeteo):\n",
    "    ... \n",
    "    return ... \n",
    "```"
   ]
  },
  {
   "cell_type": "code",
   "execution_count": 3,
   "id": "f8078761",
   "metadata": {},
   "outputs": [
    {
     "name": "stdout",
     "output_type": "stream",
     "text": [
      "[((2022, 1, 20), 9.0), ((2022, 1, 21), 7.0)]\n"
     ]
    }
   ],
   "source": [
    "def medias(tabMeteo):\n",
    "    res = []\n",
    "    for data, min, max, prec in tabMeteo:\n",
    "        media=(min+max)/2\n",
    "        res.append((data,media))\n",
    "    return res\n",
    "\n",
    "print(medias(tabMeteo1))"
   ]
  },
  {
   "cell_type": "markdown",
   "id": "3b39567d",
   "metadata": {},
   "source": [
    "### 1.b) Define uma função para guardar uma tabela meteorológica num ficheiro de texto."
   ]
  },
  {
   "cell_type": "code",
   "execution_count": 6,
   "id": "45bb1ff7",
   "metadata": {},
   "outputs": [],
   "source": [
    "def guardaTabMeteo(t, fnome):\n",
    "    file= open(fnome,\"w\")\n",
    "    for data , min, max, prec in t:\n",
    "        registo=str(data[0])+ \"-\" + str(data[1])+ \"-\" + str(data[2])\n",
    "        registo= registo + \";\" + str(min) + \";\" + str(max) + \";\"+ str(prec) + \"\\n\"\n",
    "        file.write(registo)\n",
    "    file.close()\n",
    "    return\n",
    "guardaTabMeteo (tabMeteo1, \"meteorologia.txt\")\n"
   ]
  },
  {
   "cell_type": "markdown",
   "id": "60595593",
   "metadata": {},
   "source": [
    "### 1.c) Define uma função para carregar uma tabela meteorológica de um ficheiro de texto."
   ]
  },
  {
   "cell_type": "code",
   "execution_count": 13,
   "id": "943e48f6",
   "metadata": {},
   "outputs": [
    {
     "name": "stdout",
     "output_type": "stream",
     "text": [
      "[((2022, 1, 20), 2.0, 16.0, 0.0), ((2022, 1, 21), 1.0, 13.0, 0.2)]\n"
     ]
    }
   ],
   "source": [
    "def carregaTabMeteo(fnome):\n",
    "    file=open(fnome,\"r\")\n",
    "    res=[]\n",
    "    for line in file:\n",
    "        line= line.strip() #remove espaços em branco, \\n, etcs\n",
    "        campos=line.split(\";\")\n",
    "        data= campos[0].split(\"-\")\n",
    "        data= (int(data[0]),int(data[1]),int(data[2]))\n",
    "        tmin=float(campos[1])\n",
    "        tmax= float(campos[2])\n",
    "        prec=float (campos[3])\n",
    "        res.append ((data,tmin,tmax,prec))\n",
    "    file.close()\n",
    "    return res\n",
    "print(carregaTabMeteo(\"meteorologia.txt\"))\n",
    "tabMeteo1 = [((2022,1,20), 2, 16, 0),((2022,1,21), 1, 13, 0.2)]"
   ]
  },
  {
   "cell_type": "markdown",
   "id": "1c91a8f8",
   "metadata": {},
   "source": [
    "### 1.d) Calcula a temperatura mínima mais baixa registada na tabela, dando como resultado esse valor:\n",
    "\n",
    "``` \n",
    "def minMin(tabMeteo):\n",
    "    ... \n",
    "    return ... \n",
    "```"
   ]
  },
  {
   "cell_type": "code",
   "execution_count": 15,
   "id": "0c7ab659",
   "metadata": {},
   "outputs": [
    {
     "name": "stdout",
     "output_type": "stream",
     "text": [
      "1\n"
     ]
    }
   ],
   "source": [
    "def minMin(tabMeteo):\n",
    "    minimo= tabMeteo [0][1]\n",
    "    for _,min,*_ in tabMeteo [1:]:\n",
    "        if min < minimo:\n",
    "            minimo =min\n",
    "    return minimo \n",
    "\n",
    "print(minMin(tabMeteo1))"
   ]
  },
  {
   "cell_type": "markdown",
   "id": "d13f2c34",
   "metadata": {},
   "source": [
    "### 1.e) Calcula a amplitude térmica (diferença entre a temperatura máxima e a temperatura mínima) de cada dia, dando como resultado uma lista de pares: [(data, amplitude)]\n",
    "\n",
    "``` \n",
    "def amplTerm(tabMeteo):\n",
    "    ... \n",
    "    return ... \n",
    "```"
   ]
  },
  {
   "cell_type": "code",
   "execution_count": null,
   "id": "05ae6b71",
   "metadata": {},
   "outputs": [],
   "source": [
    "def amplTerm(tabMeteo):\n",
    "    res = []\n",
    "    # ... \n",
    "    return res \n",
    "\n",
    "print(amplTerm(tabMeteo1))"
   ]
  },
  {
   "cell_type": "markdown",
   "id": "364656ac",
   "metadata": {},
   "source": [
    "### 1.f) Calcula o dia em que a precipitação registada teve o seu valor máximo e indica esse valor, dando como resultado o par (data, valor):\n",
    "\n",
    "```\n",
    "def maxChuva(tabMeteo):\n",
    "    ... \n",
    "    return ... \n",
    "```"
   ]
  },
  {
   "cell_type": "code",
   "execution_count": null,
   "id": "a7ecafee",
   "metadata": {},
   "outputs": [],
   "source": [
    "def maxChuva(tabMeteo):\n",
    "    # ...\n",
    "    return \n",
    "\n",
    "print(maxChuva(tabMeteo1))"
   ]
  },
  {
   "cell_type": "markdown",
   "id": "f658ab20",
   "metadata": {},
   "source": [
    "### 1.g) Define uma função que recebe uma tabela meteorológica e um limite `p` e retorna uma lista de pares [(data, precipitação)] correspondente aos dias em que a precipitação foi superior a `p`.\n"
   ]
  },
  {
   "cell_type": "code",
   "execution_count": null,
   "id": "885e6bdd",
   "metadata": {},
   "outputs": [],
   "source": [
    "def diasChuvosos(tabMeteo, p):\n",
    "    #...\n",
    "    return "
   ]
  },
  {
   "cell_type": "markdown",
   "id": "4053559b",
   "metadata": {},
   "source": [
    "### 1.h) Define uma função que recebe uma tabela meteorológica e um limite `p` e retorna o maior número consecutivo de dias com precipitação abaixo desse limite."
   ]
  },
  {
   "cell_type": "code",
   "execution_count": null,
   "id": "78ca2bb2",
   "metadata": {},
   "outputs": [],
   "source": [
    "def maxPeriodoCalor(tabMeteo, p):\n",
    "    #...\n",
    "    return "
   ]
  },
  {
   "cell_type": "markdown",
   "id": "6553af14",
   "metadata": {},
   "source": [
    "### 1.i) Define uma função que recebe uma tabela meteorológica e desenha os gráficos da temperatura mínima, máxima e de pluviosidade."
   ]
  },
  {
   "cell_type": "code",
   "execution_count": null,
   "id": "02d30bba",
   "metadata": {},
   "outputs": [],
   "source": [
    "def grafTabMeteo(t):\n",
    "    #...\n",
    "    return"
   ]
  },
  {
   "cell_type": "markdown",
   "id": "c617f4f6",
   "metadata": {},
   "source": [
    "### 1.j) Coloca tudo numa aplicação externa ao notebook. "
   ]
  },
  {
   "cell_type": "markdown",
   "id": "4193a91b",
   "metadata": {},
   "source": [
    "### TPC7: Construir uma aplicação para manipular polinómios\n",
    "\n",
    "Depois da aula da semana passada, já tens algumas funções desenvolvidas que te irão ajudar a construir a aplicação que se descreve a seguir.\n",
    "\n",
    "* Aquecimento: Instancia os seguintes exemplos num ficheiro de texto com o formato definido na última aula\n",
    "    - `x^7 - 3.7x^4 + 5x^3 - 88`\n",
    "    - `2x^2 + 17`\n",
    "    - `7x^4 + 6x^3 - x^2 + 43`\n",
    "    - `x^4`\n",
    "    - `x^2`\n",
    "    - `x^3`\n",
    "\n",
    "* Desenvolve as seguintes funcionalidades que não foram trabalhadas na aula:\n",
    "    1. Define uma função que dado um polinómio calcula a sua derivada;\n",
    "    2. Define uma função que recebe dois polinómios `p1` e `p2` e calcula um novo polinómio correspondente à soma de `p1` e `p2`;\n",
    "    3. Define uma função que recebe um polinómio e o desenha num gráfico.\n",
    "\n",
    "* Num ficheiro Python, cria uma aplicação para manipular polinómios com as seguintes operações:\n",
    "    1. Criar um polinómio interativamente;\n",
    "    2. Ler uma lista de polinómios de um ficheiro;\n",
    "    3. Listar polinómios: mostra numa tabela os polinómios carregados em memória, adicionando um número de ordem a cada um;\n",
    "    4. Calcular o valor de um polinómio num ponto (usa o número de ordem para referenciar o polinómio);\n",
    "    5. Listar polinómios com grau: à listagem anterior, acrescenta mais uma coluna com o grau;\n",
    "    6. Maior grau: mostra o polinómio de maior grau e indica o seu número de ordem;\n",
    "    7. Derivada: mostra uma tabela com os polinómios e as respetivas derivadas;\n",
    "    8. Somar dois polinómios: indicando os seus números de ordem;\n",
    "    9. Gerar um gráfico para o polinómio;\n",
    "    10. Gravar num ficheiro os polinómios em memória;\n",
    "    0. Sair da aplicação\n"
   ]
  },
  {
   "cell_type": "code",
   "execution_count": 35,
   "id": "56bd6828",
   "metadata": {},
   "outputs": [
    {
     "name": "stdout",
     "output_type": "stream",
     "text": [
      "[[(1, 7), (3.7, 4), (5, 3), (-88, 0)], [(2, 2), (17, 1)], [(7, 4), (6, 3), (-1, 2), (43, 0)], [(1, 4)], [(1, 2)], [(1, 3)]]\n"
     ]
    }
   ],
   "source": [
    "p1=[(1,7),(3.7,4),(5,3),(-88,0)]\n",
    "p2=[(2,2),(17,1)]\n",
    "p3=[(7,4),(6,3),(-1,2),(43,0)]\n",
    "p4=[(1,4)]\n",
    "p5=[(1,2)]\n",
    "p6=[(1,3)]\n",
    "listap = [p1,p2,p3,p4,p5,p6]\n",
    "print (listap)"
   ]
  },
  {
   "cell_type": "code",
   "execution_count": 37,
   "id": "59005720",
   "metadata": {},
   "outputs": [],
   "source": [
    "#Polinomios\n",
    "#polinomios=[termo]\n",
    "#coeficiente=float\n",
    "#grau=int\n",
    "#termo=(coeficiente,grau)\n",
    "def Guardar_POL(listap, fnome):\n",
    "    file = open(\"polinomiostpc7.txt\",\"w\") \n",
    "    for p in listap:\n",
    "        for termo in p:\n",
    "            coeficiente = termo[0]\n",
    "            grau = termo[1]\n",
    "            file.write(str(coeficiente) + \",\" + str(grau) + \";\")\n",
    "        file.write(\"\\n\")\n",
    "    file.close()\n",
    "            \n",
    "Guardar_POL(listap,\"polinomiostpc7.txt\")"
   ]
  },
  {
   "cell_type": "code",
   "execution_count": 78,
   "id": "cf3181bf",
   "metadata": {},
   "outputs": [
    {
     "name": "stdout",
     "output_type": "stream",
     "text": [
      "[(2, 3), (1, 2), (2, 1), (1, 0)]\n"
     ]
    }
   ],
   "source": [
    "\n",
    "def criaPolIn():\n",
    "    polinomio = []\n",
    "    i = 1\n",
    "    grau = int(input (\"Insira o grau do polinomio\"))\n",
    "    while grau >= 0:\n",
    "        coeficiente = int(input (\"Insira o coeficiente do polinómio \" + str(i)))\n",
    "        if coeficiente != 0:\n",
    "            termo = (coeficiente, grau)\n",
    "            polinomio.append(termo)\n",
    "            grau = grau - 1\n",
    "            i = i + 1\n",
    "    return polinomio\n",
    "p4 = criaPolIn()\n",
    "print(p4)\n",
    "    "
   ]
  },
  {
   "cell_type": "code",
   "execution_count": 38,
   "id": "5a229f14",
   "metadata": {},
   "outputs": [
    {
     "data": {
      "image/png": "[encoded data removed]",
      "text/plain": [
       "<Figure size 640x480 with 1 Axes>"
      ]
     },
     "metadata": {},
     "output_type": "display_data"
    },
    {
     "name": "stdout",
     "output_type": "stream",
     "text": [
      "None\n"
     ]
    }
   ],
   "source": [
    "\n",
    "def derivarPolinomio(p):\n",
    "    derivada = [] \n",
    "    for coeficiente,grau in p:\n",
    "        if grau !=0:\n",
    "            grau2 = grau - 1    \n",
    "            derivada.append((coeficiente*grau, grau2))\n",
    "    return derivada\n",
    "\n",
    "def somarPolinomios(p1,p2):\n",
    "    somaPOL = []\n",
    "    i = 0\n",
    "    w = 0\n",
    "    while i < len(p1) and w < len(p2):\n",
    "        coeficiente1, grau1 = p1[i]\n",
    "        coeficiente2, grau2 = p2[w]\n",
    "\n",
    "        if grau1 == grau2:\n",
    "            somaPOL.append((coeficiente1 + coeficiente2, grau2))\n",
    "            i = i + 1\n",
    "            j = j + 1\n",
    "        elif grau1 > grau2:\n",
    "            somaPOL.append((coeficiente1, grau1))\n",
    "            i = i + 1\n",
    "        else:\n",
    "            somaPOL.append((coeficiente2, grau2))\n",
    "            w = w + 1\n",
    "    return somaPOL\n",
    "\n",
    "import matplotlib.pyplot as plt\n",
    "\n",
    "def pot(a,b):\n",
    "    res = 1\n",
    "    while b > 0:\n",
    "        res = res * a\n",
    "        b = b - 1 \n",
    "    return res \n",
    "    \n",
    "def calcPolinomio(p, x):\n",
    "    res = 0\n",
    "    for termo in p:\n",
    "        coeficiente = termo[0]\n",
    "        grau = termo[1]\n",
    "        res = res + coeficiente * pot(x, grau)\n",
    "    return res\n",
    "\n",
    "def graficoPolinomio(p):\n",
    "\n",
    "    valoresx = []\n",
    "    valoresy = []\n",
    "\n",
    "    for x in range (0,10):\n",
    "        valoresx.append(x)\n",
    "        y = calcPolinomio(p,x)\n",
    "        valoresy.append(y)\n",
    "\n",
    "    plt.plot(valoresx, valoresy, color = \"red\")\n",
    "    \n",
    "\n",
    "    plt.xlabel(\"Abcissas / valor de x\")\n",
    "    plt.ylabel(\"Ordenadas/ polinómio\")\n",
    "\n",
    "    plt.title(\"Gráfico do polinómio\")\n",
    "\n",
    "    plt.show()\n",
    "\n",
    "print(graficoPolinomio(p4))\n"
   ]
  },
  {
   "cell_type": "code",
   "execution_count": 111,
   "id": "c08ad23b",
   "metadata": {},
   "outputs": [
    {
     "name": "stdout",
     "output_type": "stream",
     "text": [
      "1-Cria o teu polinómio \n",
      " 2-Ler Lista de polinómios \n",
      " 3-Lista de polinómios \n",
      " 4-Calcula o valor do polinómio num ponto \n",
      " 5-Listar polinómios com grau \n",
      " 6-Polinómio com maior grau \n",
      " 7-Derivada polinómios \n",
      " 8-Somar dois polinómios \n",
      " 9-Gerar um gráfico para o polinómio \n",
      " 10- Gravar num ficheiro os polinómios \n",
      " 11-Fechar\n"
     ]
    },
    {
     "name": "stdout",
     "output_type": "stream",
     "text": [
      "[[(1, 7), (3.7, 4), (5, 3), (-88, 0)], [(2, 2), (17, 1)], [(7, 4), (6, 3), (-1, 2), (43, 0)], [(1, 4)], [(1, 2)], [(1, 3)], [(3, 2), (4, 1), (1, 0)]]\n",
      "1-Cria o teu polinómio \n",
      " 2-Ler Lista de polinómios \n",
      " 3-Lista de polinómios \n",
      " 4-Calcula o valor do polinómio num ponto \n",
      " 5-Listar polinómios com grau \n",
      " 6-Polinómio com maior grau \n",
      " 7-Derivada polinómios \n",
      " 8-Somar dois polinómios \n",
      " 9-Gerar um gráfico para o polinómio \n",
      " 10- Gravar num ficheiro os polinómios \n",
      " 11-Fechar\n"
     ]
    },
    {
     "data": {
      "image/png": "[encoded data removed]",
      "text/plain": [
       "<Figure size 640x480 with 1 Axes>"
      ]
     },
     "metadata": {},
     "output_type": "display_data"
    },
    {
     "name": "stdout",
     "output_type": "stream",
     "text": [
      "1-Cria o teu polinómio \n",
      " 2-Ler Lista de polinómios \n",
      " 3-Lista de polinómios \n",
      " 4-Calcula o valor do polinómio num ponto \n",
      " 5-Listar polinómios com grau \n",
      " 6-Polinómio com maior grau \n",
      " 7-Derivada polinómios \n",
      " 8-Somar dois polinómios \n",
      " 9-Gerar um gráfico para o polinómio \n",
      " 10- Gravar num ficheiro os polinómios \n",
      " 11-Fechar\n",
      "Fechar\n"
     ]
    }
   ],
   "source": [
    "import matplotlib.pyplot as plt\n",
    "#opção1\n",
    "p1=[(1,7),(3.7,4),(5,3),(-88,0)]\n",
    "p2=[(2,2),(17,1)]\n",
    "p3=[(7,4),(6,3),(-1,2),(43,0)]\n",
    "p4=[(1,4)]\n",
    "p5=[(1,2)]\n",
    "p6=[(1,3)]\n",
    "listap = [p1,p2,p3,p4,p5,p6]\n",
    "\n",
    "\n",
    "def CriarPolinomio():\n",
    "    polinomio=[]\n",
    "    grau= int (input(\"Introduza o grau do polinómio\"))\n",
    "    i=1\n",
    "    while grau >= 0:\n",
    "        coeficiente = int(input (\"Insira o coeficiente do polinómio \" + str(i)))\n",
    "        if coeficiente != 0:\n",
    "            termo = (coeficiente, grau)\n",
    "            polinomio.append(termo)\n",
    "            grau = grau - 1\n",
    "            i = i + 1\n",
    "    listap.append(polinomio)\n",
    "    return listap\n",
    "Guardar_POL(listap,\"polinomiostpc7.txt\")    \n",
    "    \n",
    "    \n",
    "            \n",
    "#opção2    \n",
    "def Ler_Ficheiro(fnome):\n",
    "    file = open (fnome, \"r\")\n",
    "    lines = file.readlines()\n",
    "    lista = []\n",
    "    for line in lines:\n",
    "        polinomio = []\n",
    "        termo = line.split(\";\")\n",
    "        termo.remove(\"\\n\")\n",
    "        for t in termo:\n",
    "            monomio= t.split(\",\")\n",
    "            monomio = (float(monomio[0]),int(monomio[1]))\n",
    "            polinomio.append(monomio)\n",
    "        lista.append(polinomio)\n",
    "    file.close()\n",
    "    return lista\n",
    "\n",
    "\n",
    "#opção3 \n",
    "def listarPolinomios(fnome):\n",
    "    ordem = 1\n",
    "    file = open(fnome)\n",
    "    print (\"ordem || Polinómio\")\n",
    "    ordem=1\n",
    "    lines=file.readlines()\n",
    "    for line in lines:\n",
    "        polinomio=[]\n",
    "        termos = line.split(\";\") \n",
    "        termos.remove (\"\\n\") \n",
    "        for t in termos:\n",
    "            monomio = t.split(\",\")\n",
    "            monomio = (float(monomio[0]),int(monomio[1]))\n",
    "            polinomio.append(monomio)\n",
    "        ordem = ordem + 1\n",
    "        print (\"----------------------\")\n",
    "        print(str (ordem), \"    ||  \"  , str(polinomio ))\n",
    "    file.close()\n",
    "#opção4\n",
    "def pot (a,b):\n",
    "    res = 1\n",
    "    while b > 0:\n",
    "        res = res * a\n",
    "        b = b - 1\n",
    "    return res \n",
    "def calcPolinomio(polinomio, x):\n",
    "    res = 0\n",
    "    for termo in polinomio:\n",
    "        coeficiente = termo[0]\n",
    "        grau = termo[1]\n",
    "        #coeficiente, grau = termo\n",
    "        res = res + coeficiente * pot(x,grau)\n",
    "    return res\n",
    "\n",
    "#opção5\n",
    "def listaPoliGrau(fnome):\n",
    "    ordem = 1\n",
    "    file = open(fnome)\n",
    "    lines= file.readlines()\n",
    "    print (\"ordem || grau || polinómio\")\n",
    "    print (\"------------------------\")\n",
    "    for line in lines:\n",
    "        polinomio=[]\n",
    "        termos = line.split(\";\") \n",
    "        termos.remove (\"\\n\") \n",
    "        maior = 0\n",
    "        for t in termos:\n",
    "            monomio = t.split(\",\")\n",
    "            coeficiente, grau = monomio\n",
    "            monomio = (float(monomio[0]),int(monomio[1]))\n",
    "            polinomio.append(monomio)\n",
    "            if int (grau) > int (maior):\n",
    "                maior= grau\n",
    "        print (str(ordem), \"    || \" ,str(maior),  \"  ||  \" ,polinomio)\n",
    "        ordem = ordem + 1\n",
    "        print (\"----------------------\")\n",
    "    file.close()\n",
    "\n",
    "#opção6\n",
    "def PolMaiorGrau(fnome):\n",
    "    print (\"Polinomio maior grau                        ||    Ordem\")\n",
    "    file = open (fnome, \"r\")\n",
    "    lines = file.readlines()\n",
    "    ordem = 0\n",
    "    maior = 0\n",
    "    x = 0\n",
    "    for line in lines:\n",
    "        termos = line.split(\";\")\n",
    "        termos.remove (\"\\n\") \n",
    "        ordem = ordem + 1\n",
    "        for t in termos:\n",
    "            monomio = t.split(\",\")  \n",
    "            coeficiente, grau = monomio \n",
    "            monomio = (float(monomio[0]),int(monomio[1]))\n",
    "            if int(grau) > int(maior):\n",
    "                maior = grau\n",
    "                n = x\n",
    "        x = x + 1\n",
    "    print (Ler_Ficheiro(\"polinomiostpc7.txt\")[n],  \" || \", ordem )\n",
    "    file.close()\n",
    "           \n",
    "\n",
    "#opção7\n",
    "def derivarPolinomio(fnome):\n",
    "    print (\"Polinomio                         ||    Derivada\")\n",
    "    file=open(fnome,\"r\")\n",
    "    lines=file.readlines()\n",
    "    derivada=[] \n",
    "    for line in lines:\n",
    "        polinomio=[]\n",
    "        termos =line.split(\";\")\n",
    "        termos.remove (\"\\n\")\n",
    "        for t in termos:\n",
    "            monomio = t.split(\",\")\n",
    "            monomio = (float(monomio[0]),int(monomio[1]))\n",
    "            polinomio.append(monomio)\n",
    "            for coeficiente,grau in polinomio:\n",
    "                if grau !=0:\n",
    "                    grau2 = grau - 1    \n",
    "                    derivada.append((coeficiente*grau, grau2))\n",
    "                else:\n",
    "                    derivada.append((coeficiente,0))\n",
    "                \n",
    "        \n",
    "    print (str(derivada), \"    || \" ,polinomio)\n",
    "    file.close()\n",
    "\n",
    "#opção8\n",
    "def somarPolinomios(p1,p2):\n",
    "    somaPOL = []\n",
    "    i = 0\n",
    "    w = 0\n",
    "    while i < (len(p1)) and w < (len(p2)):\n",
    "        coeficiente1, grau1 = p1[i]\n",
    "        coeficiente2, grau2 = p2[w]\n",
    "\n",
    "        if grau1 == grau2:\n",
    "            somaPOL.append((coeficiente1 + coeficiente2, grau2))\n",
    "            i = i + 1\n",
    "            w = w + 1\n",
    "        elif grau1 > grau2:\n",
    "            somaPOL.append((coeficiente1, grau1))\n",
    "            i = i + 1\n",
    "        else:\n",
    "            somaPOL.append((coeficiente2, grau2))\n",
    "            w = w + 1\n",
    "    while i < len(p1):\n",
    "        coeficiente1, grau1 = p1[i]\n",
    "        somaPOL.append((coeficiente2,grau2))\n",
    "        i = i + 1\n",
    "    while w < len(p2):\n",
    "        coeficiente2, grau2 = p2[j]\n",
    "        somaPOL.append((coeficiente2, grau2))\n",
    "        w=w+1\n",
    "    return somaPOL\n",
    "\n",
    "\n",
    "#opção9\n",
    "def graficoPolinomio(polinomio):\n",
    "\n",
    "    valoresx = []\n",
    "    valoresy = []\n",
    "\n",
    "    for x in range (0,10):\n",
    "        valoresx.append(x)\n",
    "        y = calcPolinomio(polinomio,x)\n",
    "        valoresy.append(y)\n",
    "\n",
    "    plt.plot(valoresx, valoresy, color = \"pink\")\n",
    "    \n",
    "\n",
    "    plt.xlabel(\"Abcissas / valor de x\")\n",
    "    plt.ylabel(\"Ordenadas/ polinómio\")\n",
    "\n",
    "    plt.title(\"Gráfico do polinómio\")\n",
    "\n",
    "    plt.show()\n",
    "\n",
    "\n",
    "\n",
    "\n",
    "\n",
    "\n",
    "\n",
    "menu = (\"1-Cria o teu polinómio \\n 2-Ler Lista de polinómios \\n 3-Lista de polinómios \\n 4-Calcula o valor do polinómio num ponto \\n 5-Listar polinómios com grau \\n 6-Polinómio com maior grau \\n 7-Derivada polinómios \\n 8-Somar dois polinómios \\n 9-Gerar um gráfico para o polinómio \\n 10- Gravar num ficheiro os polinómios \\n 11-Fechar\")\n",
    "print(menu)\n",
    "opc=int(input(\"Escolha a sua opção\"))\n",
    "while opc != 0:\n",
    "    if opc==1:\n",
    "        print (CriarPolinomio())\n",
    "    if opc==2:\n",
    "        (Ler_Ficheiro(\"polinomiostpc7.txt\"))\n",
    "    if opc==3:\n",
    "        listarPolinomios(\"polinomiostpc7.txt\")\n",
    "    if opc==4:\n",
    "        escolherpol=input(\"Qual é a ordem do polinómio que pretende?\")\n",
    "        x=int(input(\"Qual é o valor de x?\"))\n",
    "        print (calcPolinomio(Ler_Ficheiro(\"polinomiostpc7.txt\")[int(ordem)-1], x))\n",
    "    if opc==5:\n",
    "        listaPoliGrau(\"polinomiostpc7.txt\")\n",
    "    if opc==6:\n",
    "       PolMaiorGrau(\"polinomiostpc7.txt\")\n",
    "    if opc==7:\n",
    "        derivarPolinomio(\"polinomiostpc7.txt\")\n",
    "    if opc==8:\n",
    "        p1=int(input(\"Qual é a ordem do primeiro polinómio que quer somar?\"))\n",
    "        p2=int(input(\"Qual é a ordem do segundo polinómio que quer somar?\"))\n",
    "        somarPolinomios(p1,p2)\n",
    "    if opc==9:\n",
    "        ordem = int(input(\"Qual a ordem do seu polinómio?\"))\n",
    "        graficoPolinomio(Ler_Ficheiro(\"polinomiostpc7.txt\")[(ordem-1)]) \n",
    "\n",
    "\n",
    "    print(menu)\n",
    "    opc=int(input(\"Qual é a próxima opção?\"))\n",
    "print(\"Fechar\")\n",
    "\n",
    "\n",
    "\n",
    "\n",
    "\n",
    "    \n"
   ]
  }
 ],
 "metadata": {
  "kernelspec": {
   "display_name": "Python 3.9.1 64-bit",
   "language": "python",
   "name": "python3"
  },
  "language_info": {
   "codemirror_mode": {
    "name": "ipython",
    "version": 3
   },
   "file_extension": ".py",
   "mimetype": "text/x-python",
   "name": "python",
   "nbconvert_exporter": "python",
   "pygments_lexer": "ipython3",
   "version": "3.11.5"
  },
  "vscode": {
   "interpreter": {
    "hash": "aee8b7b246df8f9039afb4144a1f6fd8d2ca17a180786b69acc140d282b71a49"
   }
  }
 },
 "nbformat": 4,
 "nbformat_minor": 5
}
